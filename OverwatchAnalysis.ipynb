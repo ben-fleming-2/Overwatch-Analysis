{
 "cells": [
  {
   "cell_type": "markdown",
   "id": "knowing-antenna",
   "metadata": {},
   "source": [
    "<div align=\"center\">\n",
    "    <H1>\n",
    "        <Strong>\n",
    "            Analysis on Hero Compositions in Professional Overwatch\n",
    "        </Strong>\n",
    "    </H1>\n",
    "    Chinhnam Nguyen, Jared Fleming, Ben Fleming\n",
    "</div>"
   ]
  },
  {
   "cell_type": "markdown",
   "id": "thorough-ceramic",
   "metadata": {},
   "source": [
    "---"
   ]
  },
  {
   "cell_type": "markdown",
   "id": "original-visibility",
   "metadata": {},
   "source": [
    "<div align=\"center\">\n",
    "    <H1>\n",
    "        <Strong>\n",
    "            Introduction\n",
    "        </Strong>\n",
    "    </H1>\n",
    "</div>"
   ]
  },
  {
   "cell_type": "markdown",
   "id": "preliminary-merit",
   "metadata": {},
   "source": [
    "Overwatch is a multiplayer team-based first-person shooter developed and published by Blizzard Entertainment and published in 2016. It skyrocketed in popularity quickly after release and is still going strong with over 5 million average players each month in 2021, and peaking as high as 7.3 million. Described as a \"hero shooter\", Overwatch assigns players into two teams of six, with each player selecting from a large roster of characters, known as \"heroes\", with unique abilities. Teams work to complete map-specific objectives within a limited period of time such as pushing a payload across the map or holding an area longer than the other team. The game features several different game modes, principally designed around squad-based combat with two opposing teams of six players each. Players select one of 32 hero characters from one of three class types: <b>Damage</b> heroes that deal most of the damage to attack or defend control points, <b>Tank</b> heroes that can absorb a large amount of damage, and <b>Support</b> heroes that provide healing or other buffs for their teammates. Each hero has a unique skill kit, defining their intrinsic attributes like health points and running speed, their primary attacks, several active and passive skills, and an ultimate ability that can only be used after it has been charged through dealing damage to enemies and healing allies. Players can change their hero during the course of a match, as a goal of Overwatch's design was to encourage dynamic team compositions that adapt to the situation. \n",
    " \n",
    "The meteoric rise in popularity also inspired both Blizzard and esports organizations to arrange their own teams and tournaments, resulting in the Overwatch League, which is produced and regulated by Blizzard themselves. Though based in the U.S., the league also features teams from Asia and Europe, resulting in 20 city-based teams, each with a max roster of 12 players. Due to its wide interchangeability between maps, gamemodes, and hero compositions (the heroes picked by each team), Overwatch is one of the most analyzed competitive games in the world. To help with this, Blizzard compiles and publicly releases the data collected throughout professional play during the year. All of the datasets can be accessed [here](https://overwatchleague.com/en-us/statslab \"Overwatch League Stats Lab\").\n",
    "\n",
    "Here, we will be focusing on the data collected during the 2020 Overwatch League season, and will primarily intend to figure out the most optimal hero compositions for each map and gamemode. Heroes are meant to compliment and check each other as they are split into three classes: damage, support, and tank. Obviously, we would expect a team of six attack heroes to succeed in aggressing the enemy, but would also expect them to fail miserably when defending an area. This is why finding a correct and balanced composition is integral to the game, and professional play in general."
   ]
  },
  {
   "cell_type": "markdown",
   "id": "exceptional-consent",
   "metadata": {},
   "source": [
    "<center><img src=\"pictures/gallery.jpg\" alt=\"Hero's Gallery\" width=\"700\"></center>"
   ]
  },
  {
   "cell_type": "markdown",
   "id": "blond-longitude",
   "metadata": {},
   "source": [
    "<div align=\"center\">\n",
    "      <Strong>\n",
    "          Gallery of Overwatch Heroes\n",
    "      </Strong>\n",
    "</div>"
   ]
  },
  {
   "cell_type": "markdown",
   "id": "stuck-change",
   "metadata": {},
   "source": [
    "---"
   ]
  },
  {
   "cell_type": "markdown",
   "id": "suspended-senegal",
   "metadata": {},
   "source": [
    "<div align=\"center\">\n",
    "    <H1>\n",
    "        <Strong>\n",
    "            Exploring the Dataset\n",
    "        </Strong>\n",
    "    </H1>\n",
    "</div>"
   ]
  },
  {
   "cell_type": "markdown",
   "id": "secure-hungarian",
   "metadata": {},
   "source": [
    "<H3>\n",
    "    <Strong>\n",
    "        Libraries\n",
    "    </Strong>\n",
    "</H3>"
   ]
  },
  {
   "cell_type": "markdown",
   "id": "completed-college",
   "metadata": {},
   "source": [
    "We will be utilizing Python 3 along with various data science libraries: [pandas](https://pandas.pydata.org/), [numpy](https://numpy.org/), [matplotlib](https://matplotlib.org/), [seaborn](https://seaborn.pydata.org/), [sklearn](https://scikit-learn.org/stable/), and more"
   ]
  },
  {
   "cell_type": "code",
   "execution_count": 1,
   "id": "continent-credits",
   "metadata": {},
   "outputs": [],
   "source": [
    "import pandas as pd\n",
    "import numpy as np\n",
    "import matplotlib.pyplot as plt\n",
    "from matplotlib.pyplot import figure\n",
    "import seaborn as sns\n",
    "from sklearn import model_selection\n",
    "import statsmodels.api as sm\n",
    "import statsmodels.formula.api as smf\n",
    "from scipy.stats import f\n",
    "import warnings\n",
    "warnings.filterwarnings('ignore')"
   ]
  },
  {
   "cell_type": "markdown",
   "id": "soviet-terminal",
   "metadata": {},
   "source": [
    "The two datasets that we looked at were the players data set and the maps data set for Overwatch League 2020 regular season. The reason we chose 2020 data set is because it has a role queue system. This means there are two support heroes, two tank heroes, and two damaging heroes. In previous seasons, any of the six players could switch between any role which would cause more difficulty in analyzing and tidying our data. In the 2020 season, role queue prevents any switching to other roles which is easier to analyze. Now we will begin processing and tidying our datasets."
   ]
  },
  {
   "cell_type": "markdown",
   "id": "southwest-wells",
   "metadata": {},
   "source": [
    "<H3>\n",
    "    <Strong>\n",
    "        Processing the Player Data\n",
    "    </Strong>\n",
    "</H3>"
   ]
  },
  {
   "cell_type": "markdown",
   "id": "better-entity",
   "metadata": {},
   "source": [
    "Due to its immense size (over 1.2 million rows), Blizzard released the data for 2020 in two files, one for the first half and the other for the second half. To prepare the data for processing, we will first combine the two datasets. The dataset comes in the form of two CSV files."
   ]
  },
  {
   "cell_type": "code",
   "execution_count": 2,
   "id": "abandoned-instruction",
   "metadata": {},
   "outputs": [
    {
     "data": {
      "text/html": [
       "<div>\n",
       "<style scoped>\n",
       "    .dataframe tbody tr th:only-of-type {\n",
       "        vertical-align: middle;\n",
       "    }\n",
       "\n",
       "    .dataframe tbody tr th {\n",
       "        vertical-align: top;\n",
       "    }\n",
       "\n",
       "    .dataframe thead th {\n",
       "        text-align: right;\n",
       "    }\n",
       "</style>\n",
       "<table border=\"1\" class=\"dataframe\">\n",
       "  <thead>\n",
       "    <tr style=\"text-align: right;\">\n",
       "      <th></th>\n",
       "      <th>start_time</th>\n",
       "      <th>esports_match_id</th>\n",
       "      <th>tournament_title</th>\n",
       "      <th>map_type</th>\n",
       "      <th>map_name</th>\n",
       "      <th>player_name</th>\n",
       "      <th>team_name</th>\n",
       "      <th>stat_name</th>\n",
       "      <th>hero_name</th>\n",
       "      <th>stat_amount</th>\n",
       "    </tr>\n",
       "  </thead>\n",
       "  <tbody>\n",
       "    <tr>\n",
       "      <th>0</th>\n",
       "      <td>2/8/2020 18:13</td>\n",
       "      <td>30991</td>\n",
       "      <td>OWL 2020 Regular Season</td>\n",
       "      <td>CONTROL</td>\n",
       "      <td>Lijiang Tower</td>\n",
       "      <td>BenBest</td>\n",
       "      <td>Paris Eternal</td>\n",
       "      <td>All Damage Done</td>\n",
       "      <td>All Heroes</td>\n",
       "      <td>6674.164055</td>\n",
       "    </tr>\n",
       "    <tr>\n",
       "      <th>1</th>\n",
       "      <td>2/8/2020 18:13</td>\n",
       "      <td>30991</td>\n",
       "      <td>OWL 2020 Regular Season</td>\n",
       "      <td>CONTROL</td>\n",
       "      <td>Lijiang Tower</td>\n",
       "      <td>BenBest</td>\n",
       "      <td>Paris Eternal</td>\n",
       "      <td>Assists</td>\n",
       "      <td>All Heroes</td>\n",
       "      <td>11.000000</td>\n",
       "    </tr>\n",
       "    <tr>\n",
       "      <th>2</th>\n",
       "      <td>2/8/2020 18:13</td>\n",
       "      <td>30991</td>\n",
       "      <td>OWL 2020 Regular Season</td>\n",
       "      <td>CONTROL</td>\n",
       "      <td>Lijiang Tower</td>\n",
       "      <td>BenBest</td>\n",
       "      <td>Paris Eternal</td>\n",
       "      <td>Average Time Alive</td>\n",
       "      <td>All Heroes</td>\n",
       "      <td>60.199502</td>\n",
       "    </tr>\n",
       "    <tr>\n",
       "      <th>3</th>\n",
       "      <td>2/8/2020 18:13</td>\n",
       "      <td>30991</td>\n",
       "      <td>OWL 2020 Regular Season</td>\n",
       "      <td>CONTROL</td>\n",
       "      <td>Lijiang Tower</td>\n",
       "      <td>BenBest</td>\n",
       "      <td>Paris Eternal</td>\n",
       "      <td>Barrier Damage Done</td>\n",
       "      <td>All Heroes</td>\n",
       "      <td>1875.000000</td>\n",
       "    </tr>\n",
       "    <tr>\n",
       "      <th>4</th>\n",
       "      <td>2/8/2020 18:13</td>\n",
       "      <td>30991</td>\n",
       "      <td>OWL 2020 Regular Season</td>\n",
       "      <td>CONTROL</td>\n",
       "      <td>Lijiang Tower</td>\n",
       "      <td>BenBest</td>\n",
       "      <td>Paris Eternal</td>\n",
       "      <td>Damage Blocked</td>\n",
       "      <td>All Heroes</td>\n",
       "      <td>14640.911780</td>\n",
       "    </tr>\n",
       "  </tbody>\n",
       "</table>\n",
       "</div>"
      ],
      "text/plain": [
       "       start_time  esports_match_id         tournament_title map_type  \\\n",
       "0  2/8/2020 18:13             30991  OWL 2020 Regular Season  CONTROL   \n",
       "1  2/8/2020 18:13             30991  OWL 2020 Regular Season  CONTROL   \n",
       "2  2/8/2020 18:13             30991  OWL 2020 Regular Season  CONTROL   \n",
       "3  2/8/2020 18:13             30991  OWL 2020 Regular Season  CONTROL   \n",
       "4  2/8/2020 18:13             30991  OWL 2020 Regular Season  CONTROL   \n",
       "\n",
       "        map_name player_name      team_name            stat_name   hero_name  \\\n",
       "0  Lijiang Tower     BenBest  Paris Eternal      All Damage Done  All Heroes   \n",
       "1  Lijiang Tower     BenBest  Paris Eternal              Assists  All Heroes   \n",
       "2  Lijiang Tower     BenBest  Paris Eternal   Average Time Alive  All Heroes   \n",
       "3  Lijiang Tower     BenBest  Paris Eternal  Barrier Damage Done  All Heroes   \n",
       "4  Lijiang Tower     BenBest  Paris Eternal       Damage Blocked  All Heroes   \n",
       "\n",
       "    stat_amount  \n",
       "0   6674.164055  \n",
       "1     11.000000  \n",
       "2     60.199502  \n",
       "3   1875.000000  \n",
       "4  14640.911780  "
      ]
     },
     "execution_count": 2,
     "metadata": {},
     "output_type": "execute_result"
    }
   ],
   "source": [
    "# Reading in both datasets and combine into one dataframe\n",
    "players1, players2 = pd.read_csv(\"phs_2020/phs_2020_1.csv\"), pd.read_csv(\"phs_2020/phs_2020_2.csv\")\n",
    "data = pd.concat([players1, players2])\n",
    "data.head()"
   ]
  },
  {
   "cell_type": "markdown",
   "id": "wanted-hollywood",
   "metadata": {},
   "source": [
    "We can see that the raw dataset present us with a myriad of problems. Firstly, it includes data collected outside of the OWL 2020 Regular Season, which we will not be considering. Another issue is that `stat_name` is presented as it's own column instead of their own individual and respective columns. This will make it difficult for us to understand and view the dataset as well as accessing player statistics. We will be dropping the `start_time` column as it is irrelevant to what we are depicting, along with all rows that record the cumulative statistics for a player on all heroes (`hero_name == All Heroes`), since we are looking to compare individual hero statistics. To make things simpler, we will conglomerate a player's stats with a hero across games in a match, meaning if a player plays as a hero more than once for the same `match_id`, we will average their statistics across the games into one row. The dataset also includes a multitude of irrelevant statistics that we will need to remove, such as `Environmental Kills` i.e. number of times the player knocks an enemy off of the map. To recap, there are five things we need to do to sanitize the data:\n",
    "1. Drop all non OWL 2020 Regular Season rows\n",
    "2. Pivot the table to turn stat_name into columns with stat_amount as values\n",
    "3. Drop `start_time`\n",
    "4. Drop all `hero_name == All Heroes` rows\n",
    "5. Drop all irrelevant statistics"
   ]
  },
  {
   "cell_type": "markdown",
   "id": "heavy-tracker",
   "metadata": {},
   "source": [
    "<H3>\n",
    "    <Strong>\n",
    "        Tidying the Player Dataset\n",
    "    </Strong>\n",
    "</H3>"
   ]
  },
  {
   "cell_type": "markdown",
   "id": "english-india",
   "metadata": {},
   "source": [
    "First, lets drop all irrelevant columns and rows and rearrange the columns into a more readable format."
   ]
  },
  {
   "cell_type": "code",
   "execution_count": 3,
   "id": "respected-lunch",
   "metadata": {},
   "outputs": [
    {
     "data": {
      "text/html": [
       "<div>\n",
       "<style scoped>\n",
       "    .dataframe tbody tr th:only-of-type {\n",
       "        vertical-align: middle;\n",
       "    }\n",
       "\n",
       "    .dataframe tbody tr th {\n",
       "        vertical-align: top;\n",
       "    }\n",
       "\n",
       "    .dataframe thead th {\n",
       "        text-align: right;\n",
       "    }\n",
       "</style>\n",
       "<table border=\"1\" class=\"dataframe\">\n",
       "  <thead>\n",
       "    <tr style=\"text-align: right;\">\n",
       "      <th></th>\n",
       "      <th>esports_match_id</th>\n",
       "      <th>map_type</th>\n",
       "      <th>map_name</th>\n",
       "      <th>player_name</th>\n",
       "      <th>team_name</th>\n",
       "      <th>hero_name</th>\n",
       "      <th>stat_name</th>\n",
       "      <th>stat_amount</th>\n",
       "    </tr>\n",
       "  </thead>\n",
       "  <tbody>\n",
       "    <tr>\n",
       "      <th>22</th>\n",
       "      <td>30991</td>\n",
       "      <td>CONTROL</td>\n",
       "      <td>Lijiang Tower</td>\n",
       "      <td>BenBest</td>\n",
       "      <td>Paris Eternal</td>\n",
       "      <td>Reinhardt</td>\n",
       "      <td>All Damage Done</td>\n",
       "      <td>6674.16</td>\n",
       "    </tr>\n",
       "    <tr>\n",
       "      <th>23</th>\n",
       "      <td>30991</td>\n",
       "      <td>CONTROL</td>\n",
       "      <td>Lijiang Tower</td>\n",
       "      <td>BenBest</td>\n",
       "      <td>Paris Eternal</td>\n",
       "      <td>Reinhardt</td>\n",
       "      <td>Assists</td>\n",
       "      <td>11.00</td>\n",
       "    </tr>\n",
       "    <tr>\n",
       "      <th>25</th>\n",
       "      <td>30991</td>\n",
       "      <td>CONTROL</td>\n",
       "      <td>Lijiang Tower</td>\n",
       "      <td>BenBest</td>\n",
       "      <td>Paris Eternal</td>\n",
       "      <td>Reinhardt</td>\n",
       "      <td>Barrier Damage Done</td>\n",
       "      <td>1875.00</td>\n",
       "    </tr>\n",
       "    <tr>\n",
       "      <th>31</th>\n",
       "      <td>30991</td>\n",
       "      <td>CONTROL</td>\n",
       "      <td>Lijiang Tower</td>\n",
       "      <td>BenBest</td>\n",
       "      <td>Paris Eternal</td>\n",
       "      <td>Reinhardt</td>\n",
       "      <td>Damage Blocked</td>\n",
       "      <td>14640.91</td>\n",
       "    </tr>\n",
       "    <tr>\n",
       "      <th>33</th>\n",
       "      <td>30991</td>\n",
       "      <td>CONTROL</td>\n",
       "      <td>Lijiang Tower</td>\n",
       "      <td>BenBest</td>\n",
       "      <td>Paris Eternal</td>\n",
       "      <td>Reinhardt</td>\n",
       "      <td>Deaths</td>\n",
       "      <td>5.00</td>\n",
       "    </tr>\n",
       "  </tbody>\n",
       "</table>\n",
       "</div>"
      ],
      "text/plain": [
       "    esports_match_id map_type       map_name player_name      team_name  \\\n",
       "22             30991  CONTROL  Lijiang Tower     BenBest  Paris Eternal   \n",
       "23             30991  CONTROL  Lijiang Tower     BenBest  Paris Eternal   \n",
       "25             30991  CONTROL  Lijiang Tower     BenBest  Paris Eternal   \n",
       "31             30991  CONTROL  Lijiang Tower     BenBest  Paris Eternal   \n",
       "33             30991  CONTROL  Lijiang Tower     BenBest  Paris Eternal   \n",
       "\n",
       "    hero_name            stat_name  stat_amount  \n",
       "22  Reinhardt      All Damage Done      6674.16  \n",
       "23  Reinhardt              Assists        11.00  \n",
       "25  Reinhardt  Barrier Damage Done      1875.00  \n",
       "31  Reinhardt       Damage Blocked     14640.91  \n",
       "33  Reinhardt               Deaths         5.00  "
      ]
     },
     "execution_count": 3,
     "metadata": {},
     "output_type": "execute_result"
    }
   ],
   "source": [
    "# Drop irrelevant columns and rows\n",
    "data.drop(['start_time'], axis=1)\n",
    "data.drop(data.index[data['tournament_title'] != 'OWL 2020 Regular Season'], inplace=True)\n",
    "data.drop(['tournament_title'], axis = 1, inplace = True)\n",
    "data = data.reindex(columns = ['esports_match_id', 'map_type', 'map_name', 'player_name', 'team_name', 'hero_name', 'stat_name', 'stat_amount'])\n",
    "data = data[data[\"hero_name\"] != \"All Heroes\"]\n",
    "stats = ['Hero Damage Done', 'Assists', 'Barrier Damage Done', 'Deaths', 'Eliminations', 'Objective Kills', 'Objective Time', 'Ultimates Earned - Fractional', 'Final Blows', \\\n",
    "     'Damage Blocked', 'Healing Done', 'All Damage Done']\n",
    "data = data.loc[data['stat_name'].isin(stats)]\n",
    "data['stat_amount'] = data['stat_amount'].round(decimals = 2)\n",
    "data.head()"
   ]
  },
  {
   "cell_type": "markdown",
   "id": "dense-antique",
   "metadata": {},
   "source": [
    "The dataframe already looks much better but we're not done yet. Now we can pivot the table to turn `stat_name` into columns and `stat_amount` into rows."
   ]
  },
  {
   "cell_type": "code",
   "execution_count": 4,
   "id": "thorough-transition",
   "metadata": {},
   "outputs": [
    {
     "data": {
      "text/html": [
       "<div>\n",
       "<style scoped>\n",
       "    .dataframe tbody tr th:only-of-type {\n",
       "        vertical-align: middle;\n",
       "    }\n",
       "\n",
       "    .dataframe tbody tr th {\n",
       "        vertical-align: top;\n",
       "    }\n",
       "\n",
       "    .dataframe thead th {\n",
       "        text-align: right;\n",
       "    }\n",
       "</style>\n",
       "<table border=\"1\" class=\"dataframe\">\n",
       "  <thead>\n",
       "    <tr style=\"text-align: right;\">\n",
       "      <th>stat_name</th>\n",
       "      <th>match_id</th>\n",
       "      <th>team_name</th>\n",
       "      <th>player_name</th>\n",
       "      <th>map_name</th>\n",
       "      <th>hero_name</th>\n",
       "      <th>All Damage Done</th>\n",
       "      <th>Assists</th>\n",
       "      <th>Barrier Damage Done</th>\n",
       "      <th>Damage Blocked</th>\n",
       "      <th>Deaths</th>\n",
       "      <th>Eliminations</th>\n",
       "      <th>Final Blows</th>\n",
       "      <th>Healing Done</th>\n",
       "      <th>Hero Damage Done</th>\n",
       "      <th>Objective Kills</th>\n",
       "      <th>Objective Time</th>\n",
       "      <th>Ultimates Earned</th>\n",
       "    </tr>\n",
       "  </thead>\n",
       "  <tbody>\n",
       "    <tr>\n",
       "      <th>0</th>\n",
       "      <td>30991</td>\n",
       "      <td>Paris Eternal</td>\n",
       "      <td>BenBest</td>\n",
       "      <td>Eichenwalde</td>\n",
       "      <td>Reinhardt</td>\n",
       "      <td>14495.63</td>\n",
       "      <td>10.0</td>\n",
       "      <td>5517.72</td>\n",
       "      <td>32655.81</td>\n",
       "      <td>9.0</td>\n",
       "      <td>19.0</td>\n",
       "      <td>9.0</td>\n",
       "      <td>0.00</td>\n",
       "      <td>8976.92</td>\n",
       "      <td>10.0</td>\n",
       "      <td>295.96</td>\n",
       "      <td>7.97</td>\n",
       "    </tr>\n",
       "    <tr>\n",
       "      <th>1</th>\n",
       "      <td>30991</td>\n",
       "      <td>Paris Eternal</td>\n",
       "      <td>BenBest</td>\n",
       "      <td>Havana</td>\n",
       "      <td>Reinhardt</td>\n",
       "      <td>9921.49</td>\n",
       "      <td>6.0</td>\n",
       "      <td>3075.00</td>\n",
       "      <td>21137.18</td>\n",
       "      <td>11.0</td>\n",
       "      <td>10.0</td>\n",
       "      <td>4.0</td>\n",
       "      <td>0.00</td>\n",
       "      <td>6837.43</td>\n",
       "      <td>3.0</td>\n",
       "      <td>148.89</td>\n",
       "      <td>5.15</td>\n",
       "    </tr>\n",
       "    <tr>\n",
       "      <th>2</th>\n",
       "      <td>30991</td>\n",
       "      <td>Paris Eternal</td>\n",
       "      <td>BenBest</td>\n",
       "      <td>Horizon Lunar Colony</td>\n",
       "      <td>Reinhardt</td>\n",
       "      <td>12362.02</td>\n",
       "      <td>13.0</td>\n",
       "      <td>3236.46</td>\n",
       "      <td>19394.67</td>\n",
       "      <td>10.0</td>\n",
       "      <td>21.0</td>\n",
       "      <td>8.0</td>\n",
       "      <td>0.00</td>\n",
       "      <td>8945.56</td>\n",
       "      <td>8.0</td>\n",
       "      <td>114.43</td>\n",
       "      <td>6.52</td>\n",
       "    </tr>\n",
       "    <tr>\n",
       "      <th>3</th>\n",
       "      <td>30991</td>\n",
       "      <td>Paris Eternal</td>\n",
       "      <td>BenBest</td>\n",
       "      <td>Lijiang Tower</td>\n",
       "      <td>Reinhardt</td>\n",
       "      <td>6674.16</td>\n",
       "      <td>11.0</td>\n",
       "      <td>1875.00</td>\n",
       "      <td>14640.91</td>\n",
       "      <td>5.0</td>\n",
       "      <td>13.0</td>\n",
       "      <td>2.0</td>\n",
       "      <td>0.00</td>\n",
       "      <td>4798.16</td>\n",
       "      <td>9.0</td>\n",
       "      <td>65.05</td>\n",
       "      <td>3.71</td>\n",
       "    </tr>\n",
       "    <tr>\n",
       "      <th>4</th>\n",
       "      <td>30991</td>\n",
       "      <td>Paris Eternal</td>\n",
       "      <td>FDGod</td>\n",
       "      <td>Eichenwalde</td>\n",
       "      <td>Lúcio</td>\n",
       "      <td>12012.14</td>\n",
       "      <td>14.0</td>\n",
       "      <td>5175.00</td>\n",
       "      <td>0.00</td>\n",
       "      <td>9.0</td>\n",
       "      <td>18.0</td>\n",
       "      <td>2.0</td>\n",
       "      <td>9229.73</td>\n",
       "      <td>6836.14</td>\n",
       "      <td>9.0</td>\n",
       "      <td>167.42</td>\n",
       "      <td>7.03</td>\n",
       "    </tr>\n",
       "  </tbody>\n",
       "</table>\n",
       "</div>"
      ],
      "text/plain": [
       "stat_name  match_id      team_name player_name              map_name  \\\n",
       "0             30991  Paris Eternal     BenBest           Eichenwalde   \n",
       "1             30991  Paris Eternal     BenBest                Havana   \n",
       "2             30991  Paris Eternal     BenBest  Horizon Lunar Colony   \n",
       "3             30991  Paris Eternal     BenBest         Lijiang Tower   \n",
       "4             30991  Paris Eternal       FDGod           Eichenwalde   \n",
       "\n",
       "stat_name  hero_name  All Damage Done  Assists  Barrier Damage Done  \\\n",
       "0          Reinhardt         14495.63     10.0              5517.72   \n",
       "1          Reinhardt          9921.49      6.0              3075.00   \n",
       "2          Reinhardt         12362.02     13.0              3236.46   \n",
       "3          Reinhardt          6674.16     11.0              1875.00   \n",
       "4              Lúcio         12012.14     14.0              5175.00   \n",
       "\n",
       "stat_name  Damage Blocked  Deaths  Eliminations  Final Blows  Healing Done  \\\n",
       "0                32655.81     9.0          19.0          9.0          0.00   \n",
       "1                21137.18    11.0          10.0          4.0          0.00   \n",
       "2                19394.67    10.0          21.0          8.0          0.00   \n",
       "3                14640.91     5.0          13.0          2.0          0.00   \n",
       "4                    0.00     9.0          18.0          2.0       9229.73   \n",
       "\n",
       "stat_name  Hero Damage Done  Objective Kills  Objective Time  Ultimates Earned  \n",
       "0                   8976.92             10.0          295.96              7.97  \n",
       "1                   6837.43              3.0          148.89              5.15  \n",
       "2                   8945.56              8.0          114.43              6.52  \n",
       "3                   4798.16              9.0           65.05              3.71  \n",
       "4                   6836.14              9.0          167.42              7.03  "
      ]
     },
     "execution_count": 4,
     "metadata": {},
     "output_type": "execute_result"
    }
   ],
   "source": [
    "# Tidy dataset to elongate stat_name column into rows and insert respective stat_amount values\n",
    "data = data[['stat_name', 'stat_amount', 'player_name','esports_match_id','hero_name','map_name', 'team_name']].copy().reset_index()\n",
    "data = data.pivot_table(values='stat_amount', index=[data['esports_match_id'],data['team_name'], data['player_name'], data['map_name'], data['hero_name']], columns='stat_name', aggfunc='sum')\n",
    "data = data.fillna(0).reset_index()\n",
    "data.rename(columns = {'Ultimates Earned - Fractional':'Ultimates Earned', 'esports_match_id':'match_id'}, inplace = True)\n",
    "data['map_name'].replace({'King\\'s Row': 'Kings Row'}, inplace = True)\n",
    "data.head()"
   ]
  },
  {
   "cell_type": "markdown",
   "id": "corrected-quarterly",
   "metadata": {},
   "source": [
    "Here, we can see that the finalized dataset we will be analyzing has five objective columns and twelve stat columns. \n",
    "<Strong>Objective Columns:</Strong>\n",
    "* `match_id` - The number referencing the matches in which the player earned the stats. A series of matches will have the same match_id.\n",
    "* `team_name` - Name of the team of the player.\n",
    "* `player_name` - In-game name of the player.\n",
    "* `map_name` - Names of the maps on which the games were played.\n",
    "* `hero_name` - Names of the heroes that the player played as.\n",
    "\n",
    "<Strong>Stat Columns:</Strong>\n",
    "* `All Damage Done` - Total damage done by the player in the match.\n",
    "* `Assists` - Enemy deaths that the player participated in but did not achieve the final blow.\n",
    "* `Barrier Damage Done` - Damage done by player only to enemy barriers.\n",
    "* `Damage Blocked` - Damage blocked by the player's barriers (will only apply to barrier heroes).\n",
    "* `Deaths` - Total death count of the player.\n",
    "* `Eliminations` - Total number of enemy deaths that the player participated in.\n",
    "* `Final Blows` - Enemy deaths in which the player achieved the final blow.\n",
    "* `Healing Done` - Total personal and team health points healed by the player (will only apply to healing heroes).\n",
    "* `Hero Damage Done` - Damage done only to enemy heroes.\n",
    "* `Objective Kills` - Eliminations made by the player where the enemy was either at the objective point, or the player was defending the objective point.\n",
    "* `Objective Time` - Time spent by the player either defending or attacking the objective point.\n",
    "* `Ultimates Earned` - Total ultimate abilities earned by the player.\n",
    "\n",
    "Now, we can easily transform the dataframe and access stat values as necessary!"
   ]
  },
  {
   "cell_type": "markdown",
   "id": "selected-matthew",
   "metadata": {},
   "source": [
    "<center><img src=\"pictures/pros.jpeg\" alt=\"Hero's Gallery\" width=\"600\"></center>"
   ]
  },
  {
   "cell_type": "markdown",
   "id": "international-veteran",
   "metadata": {},
   "source": [
    "<div align=\"center\">\n",
    "      <Strong>\n",
    "          Overwatch League's Finest\n",
    "      </Strong>\n",
    "</div>"
   ]
  },
  {
   "cell_type": "markdown",
   "id": "joined-disco",
   "metadata": {},
   "source": [
    "<H3>\n",
    "    <Strong>\n",
    "        Tidying the Map Dataset\n",
    "    </Strong>\n",
    "</H3>"
   ]
  },
  {
   "cell_type": "markdown",
   "id": "macro-lobby",
   "metadata": {},
   "source": [
    "Blizzard also released data that had every Overwatch League played matches from 2018 to 2021. We are only going to look at the professional Overwatch League 2020 regular season matches. The file includes the team names, winner/loser, gamemode and map, and many other statistics (many of which we will not be considering). The data comes in the form of a CSV file with over 100,000 rows."
   ]
  },
  {
   "cell_type": "code",
   "execution_count": 5,
   "id": "opponent-organization",
   "metadata": {},
   "outputs": [
    {
     "data": {
      "text/html": [
       "<div>\n",
       "<style scoped>\n",
       "    .dataframe tbody tr th:only-of-type {\n",
       "        vertical-align: middle;\n",
       "    }\n",
       "\n",
       "    .dataframe tbody tr th {\n",
       "        vertical-align: top;\n",
       "    }\n",
       "\n",
       "    .dataframe thead th {\n",
       "        text-align: right;\n",
       "    }\n",
       "</style>\n",
       "<table border=\"1\" class=\"dataframe\">\n",
       "  <thead>\n",
       "    <tr style=\"text-align: right;\">\n",
       "      <th></th>\n",
       "      <th>round_start_time</th>\n",
       "      <th>round_end_time</th>\n",
       "      <th>stage</th>\n",
       "      <th>match_id</th>\n",
       "      <th>game_number</th>\n",
       "      <th>match_winner</th>\n",
       "      <th>map_winner</th>\n",
       "      <th>map_loser</th>\n",
       "      <th>map_name</th>\n",
       "      <th>map_round</th>\n",
       "      <th>...</th>\n",
       "      <th>team_one_name</th>\n",
       "      <th>team_two_name</th>\n",
       "      <th>attacker_payload_distance</th>\n",
       "      <th>defender_payload_distance</th>\n",
       "      <th>attacker_time_banked</th>\n",
       "      <th>defender_time_banked</th>\n",
       "      <th>attacker_control_perecent</th>\n",
       "      <th>defender_control_perecent</th>\n",
       "      <th>attacker_round_end_score</th>\n",
       "      <th>defender_round_end_score</th>\n",
       "    </tr>\n",
       "  </thead>\n",
       "  <tbody>\n",
       "    <tr>\n",
       "      <th>0</th>\n",
       "      <td>2018-01-11 00:12:07</td>\n",
       "      <td>2018-01-11 00:20:07</td>\n",
       "      <td>Overwatch League - Stage 1</td>\n",
       "      <td>10223</td>\n",
       "      <td>1</td>\n",
       "      <td>Los Angeles Valiant</td>\n",
       "      <td>Los Angeles Valiant</td>\n",
       "      <td>San Francisco Shock</td>\n",
       "      <td>Dorado</td>\n",
       "      <td>1</td>\n",
       "      <td>...</td>\n",
       "      <td>Los Angeles Valiant</td>\n",
       "      <td>San Francisco Shock</td>\n",
       "      <td>75.615051</td>\n",
       "      <td>0.000000</td>\n",
       "      <td>0.000000</td>\n",
       "      <td>240.000000</td>\n",
       "      <td>NaN</td>\n",
       "      <td>NaN</td>\n",
       "      <td>2</td>\n",
       "      <td>0</td>\n",
       "    </tr>\n",
       "    <tr>\n",
       "      <th>1</th>\n",
       "      <td>2018-01-11 00:22:05</td>\n",
       "      <td>2018-01-11 00:27:59</td>\n",
       "      <td>Overwatch League - Stage 1</td>\n",
       "      <td>10223</td>\n",
       "      <td>1</td>\n",
       "      <td>Los Angeles Valiant</td>\n",
       "      <td>Los Angeles Valiant</td>\n",
       "      <td>San Francisco Shock</td>\n",
       "      <td>Dorado</td>\n",
       "      <td>2</td>\n",
       "      <td>...</td>\n",
       "      <td>Los Angeles Valiant</td>\n",
       "      <td>San Francisco Shock</td>\n",
       "      <td>75.649597</td>\n",
       "      <td>75.615051</td>\n",
       "      <td>125.750572</td>\n",
       "      <td>0.000000</td>\n",
       "      <td>NaN</td>\n",
       "      <td>NaN</td>\n",
       "      <td>3</td>\n",
       "      <td>2</td>\n",
       "    </tr>\n",
       "    <tr>\n",
       "      <th>2</th>\n",
       "      <td>2018-01-11 00:34:39</td>\n",
       "      <td>2018-01-11 00:38:29</td>\n",
       "      <td>Overwatch League - Stage 1</td>\n",
       "      <td>10223</td>\n",
       "      <td>2</td>\n",
       "      <td>Los Angeles Valiant</td>\n",
       "      <td>Los Angeles Valiant</td>\n",
       "      <td>San Francisco Shock</td>\n",
       "      <td>Temple of Anubis</td>\n",
       "      <td>1</td>\n",
       "      <td>...</td>\n",
       "      <td>Los Angeles Valiant</td>\n",
       "      <td>San Francisco Shock</td>\n",
       "      <td>0.000000</td>\n",
       "      <td>0.000000</td>\n",
       "      <td>250.492004</td>\n",
       "      <td>240.000000</td>\n",
       "      <td>NaN</td>\n",
       "      <td>NaN</td>\n",
       "      <td>2</td>\n",
       "      <td>0</td>\n",
       "    </tr>\n",
       "    <tr>\n",
       "      <th>3</th>\n",
       "      <td>2018-01-11 00:40:27</td>\n",
       "      <td>2018-01-11 00:44:41</td>\n",
       "      <td>Overwatch League - Stage 1</td>\n",
       "      <td>10223</td>\n",
       "      <td>2</td>\n",
       "      <td>Los Angeles Valiant</td>\n",
       "      <td>Los Angeles Valiant</td>\n",
       "      <td>San Francisco Shock</td>\n",
       "      <td>Temple of Anubis</td>\n",
       "      <td>2</td>\n",
       "      <td>...</td>\n",
       "      <td>Los Angeles Valiant</td>\n",
       "      <td>San Francisco Shock</td>\n",
       "      <td>0.000000</td>\n",
       "      <td>0.000000</td>\n",
       "      <td>225.789032</td>\n",
       "      <td>250.492004</td>\n",
       "      <td>NaN</td>\n",
       "      <td>NaN</td>\n",
       "      <td>2</td>\n",
       "      <td>2</td>\n",
       "    </tr>\n",
       "    <tr>\n",
       "      <th>4</th>\n",
       "      <td>2018-01-11 00:46:09</td>\n",
       "      <td>2018-01-11 00:49:48</td>\n",
       "      <td>Overwatch League - Stage 1</td>\n",
       "      <td>10223</td>\n",
       "      <td>2</td>\n",
       "      <td>Los Angeles Valiant</td>\n",
       "      <td>Los Angeles Valiant</td>\n",
       "      <td>San Francisco Shock</td>\n",
       "      <td>Temple of Anubis</td>\n",
       "      <td>3</td>\n",
       "      <td>...</td>\n",
       "      <td>Los Angeles Valiant</td>\n",
       "      <td>San Francisco Shock</td>\n",
       "      <td>0.000000</td>\n",
       "      <td>0.000000</td>\n",
       "      <td>36.396057</td>\n",
       "      <td>250.492004</td>\n",
       "      <td>NaN</td>\n",
       "      <td>NaN</td>\n",
       "      <td>4</td>\n",
       "      <td>2</td>\n",
       "    </tr>\n",
       "  </tbody>\n",
       "</table>\n",
       "<p>5 rows × 25 columns</p>\n",
       "</div>"
      ],
      "text/plain": [
       "      round_start_time       round_end_time                       stage  \\\n",
       "0  2018-01-11 00:12:07  2018-01-11 00:20:07  Overwatch League - Stage 1   \n",
       "1  2018-01-11 00:22:05  2018-01-11 00:27:59  Overwatch League - Stage 1   \n",
       "2  2018-01-11 00:34:39  2018-01-11 00:38:29  Overwatch League - Stage 1   \n",
       "3  2018-01-11 00:40:27  2018-01-11 00:44:41  Overwatch League - Stage 1   \n",
       "4  2018-01-11 00:46:09  2018-01-11 00:49:48  Overwatch League - Stage 1   \n",
       "\n",
       "   match_id  game_number         match_winner           map_winner  \\\n",
       "0     10223            1  Los Angeles Valiant  Los Angeles Valiant   \n",
       "1     10223            1  Los Angeles Valiant  Los Angeles Valiant   \n",
       "2     10223            2  Los Angeles Valiant  Los Angeles Valiant   \n",
       "3     10223            2  Los Angeles Valiant  Los Angeles Valiant   \n",
       "4     10223            2  Los Angeles Valiant  Los Angeles Valiant   \n",
       "\n",
       "             map_loser          map_name  map_round  ...        team_one_name  \\\n",
       "0  San Francisco Shock            Dorado          1  ...  Los Angeles Valiant   \n",
       "1  San Francisco Shock            Dorado          2  ...  Los Angeles Valiant   \n",
       "2  San Francisco Shock  Temple of Anubis          1  ...  Los Angeles Valiant   \n",
       "3  San Francisco Shock  Temple of Anubis          2  ...  Los Angeles Valiant   \n",
       "4  San Francisco Shock  Temple of Anubis          3  ...  Los Angeles Valiant   \n",
       "\n",
       "         team_two_name attacker_payload_distance defender_payload_distance  \\\n",
       "0  San Francisco Shock                 75.615051                  0.000000   \n",
       "1  San Francisco Shock                 75.649597                 75.615051   \n",
       "2  San Francisco Shock                  0.000000                  0.000000   \n",
       "3  San Francisco Shock                  0.000000                  0.000000   \n",
       "4  San Francisco Shock                  0.000000                  0.000000   \n",
       "\n",
       "  attacker_time_banked defender_time_banked attacker_control_perecent  \\\n",
       "0             0.000000           240.000000                       NaN   \n",
       "1           125.750572             0.000000                       NaN   \n",
       "2           250.492004           240.000000                       NaN   \n",
       "3           225.789032           250.492004                       NaN   \n",
       "4            36.396057           250.492004                       NaN   \n",
       "\n",
       "   defender_control_perecent  attacker_round_end_score  \\\n",
       "0                        NaN                         2   \n",
       "1                        NaN                         3   \n",
       "2                        NaN                         2   \n",
       "3                        NaN                         2   \n",
       "4                        NaN                         4   \n",
       "\n",
       "   defender_round_end_score  \n",
       "0                         0  \n",
       "1                         2  \n",
       "2                         0  \n",
       "3                         2  \n",
       "4                         2  \n",
       "\n",
       "[5 rows x 25 columns]"
      ]
     },
     "execution_count": 5,
     "metadata": {},
     "output_type": "execute_result"
    }
   ],
   "source": [
    "maps = pd.read_csv(\"phs_2020/match_map_stats.csv\")\n",
    "maps.head()"
   ]
  },
  {
   "cell_type": "markdown",
   "id": "third-martial",
   "metadata": {},
   "source": [
    "The maps data includes a total of 25 columns, but we will only be considering these:\n",
    " - ```match_id``` - The number referencing the matches in which the teams competed. A series of matches will have the same match_id.\n",
    " - ```team_one``` and team_two - Two team names from the map played\n",
    " - ```map_winner``` - Winner of the map\n",
    " - ```map_name``` - Names of the maps on which the games were played.\n",
    " - ```game_number``` - The number of the map played in the match\n",
    " - ```match_winner``` - Winner of the entire match of maps"
   ]
  },
  {
   "cell_type": "markdown",
   "id": "paperback-interval",
   "metadata": {},
   "source": [
    "We will remove the unncessary columns and only keep the match_id, the two team names, map name, map winner, game number, and the match winner. The only issue is each Overwatch game has multiple rounds of each game, so the data has rows for each teams attack and defense or overtime. These excessive rows are not needed because all of the rows display the same team names, map winner, and match winner so we can drop duplicate rows."
   ]
  },
  {
   "cell_type": "code",
   "execution_count": 6,
   "id": "neutral-anthropology",
   "metadata": {},
   "outputs": [
    {
     "data": {
      "text/html": [
       "<div>\n",
       "<style scoped>\n",
       "    .dataframe tbody tr th:only-of-type {\n",
       "        vertical-align: middle;\n",
       "    }\n",
       "\n",
       "    .dataframe tbody tr th {\n",
       "        vertical-align: top;\n",
       "    }\n",
       "\n",
       "    .dataframe thead th {\n",
       "        text-align: right;\n",
       "    }\n",
       "</style>\n",
       "<table border=\"1\" class=\"dataframe\">\n",
       "  <thead>\n",
       "    <tr style=\"text-align: right;\">\n",
       "      <th></th>\n",
       "      <th>match_id</th>\n",
       "      <th>team_one</th>\n",
       "      <th>team_two</th>\n",
       "      <th>map_winner</th>\n",
       "      <th>map_name</th>\n",
       "      <th>game_number</th>\n",
       "      <th>match_winner</th>\n",
       "    </tr>\n",
       "  </thead>\n",
       "  <tbody>\n",
       "    <tr>\n",
       "      <th>6246</th>\n",
       "      <td>30991</td>\n",
       "      <td>Toronto Defiant</td>\n",
       "      <td>Paris Eternal</td>\n",
       "      <td>Paris Eternal</td>\n",
       "      <td>Lijiang Tower</td>\n",
       "      <td>1</td>\n",
       "      <td>Toronto Defiant</td>\n",
       "    </tr>\n",
       "    <tr>\n",
       "      <th>6248</th>\n",
       "      <td>30991</td>\n",
       "      <td>Paris Eternal</td>\n",
       "      <td>Toronto Defiant</td>\n",
       "      <td>Toronto Defiant</td>\n",
       "      <td>Eichenwalde</td>\n",
       "      <td>2</td>\n",
       "      <td>Toronto Defiant</td>\n",
       "    </tr>\n",
       "    <tr>\n",
       "      <th>6252</th>\n",
       "      <td>30991</td>\n",
       "      <td>Paris Eternal</td>\n",
       "      <td>Toronto Defiant</td>\n",
       "      <td>Toronto Defiant</td>\n",
       "      <td>Horizon Lunar Colony</td>\n",
       "      <td>3</td>\n",
       "      <td>Toronto Defiant</td>\n",
       "    </tr>\n",
       "    <tr>\n",
       "      <th>6255</th>\n",
       "      <td>30991</td>\n",
       "      <td>Paris Eternal</td>\n",
       "      <td>Toronto Defiant</td>\n",
       "      <td>Toronto Defiant</td>\n",
       "      <td>Havana</td>\n",
       "      <td>4</td>\n",
       "      <td>Toronto Defiant</td>\n",
       "    </tr>\n",
       "    <tr>\n",
       "      <th>6257</th>\n",
       "      <td>30992</td>\n",
       "      <td>London Spitfire</td>\n",
       "      <td>New York Excelsior</td>\n",
       "      <td>London Spitfire</td>\n",
       "      <td>Lijiang Tower</td>\n",
       "      <td>1</td>\n",
       "      <td>New York Excelsior</td>\n",
       "    </tr>\n",
       "  </tbody>\n",
       "</table>\n",
       "</div>"
      ],
      "text/plain": [
       "      match_id         team_one            team_two       map_winner  \\\n",
       "6246     30991  Toronto Defiant       Paris Eternal    Paris Eternal   \n",
       "6248     30991    Paris Eternal     Toronto Defiant  Toronto Defiant   \n",
       "6252     30991    Paris Eternal     Toronto Defiant  Toronto Defiant   \n",
       "6255     30991    Paris Eternal     Toronto Defiant  Toronto Defiant   \n",
       "6257     30992  London Spitfire  New York Excelsior  London Spitfire   \n",
       "\n",
       "                  map_name  game_number        match_winner  \n",
       "6246         Lijiang Tower            1     Toronto Defiant  \n",
       "6248           Eichenwalde            2     Toronto Defiant  \n",
       "6252  Horizon Lunar Colony            3     Toronto Defiant  \n",
       "6255                Havana            4     Toronto Defiant  \n",
       "6257         Lijiang Tower            1  New York Excelsior  "
      ]
     },
     "execution_count": 6,
     "metadata": {},
     "output_type": "execute_result"
    }
   ],
   "source": [
    "maps['map_name'].replace({'King\\'s Row': 'Kings Row'}, inplace = True)\n",
    "cleaned_maps = pd.DataFrame()\n",
    "# Only takes match id of 2020 season games which is between match ids of 30991 and 36231 from the player data table\n",
    "maps.query(\"`match_id` >= 30991\", inplace = True)\n",
    "maps.query(\"`match_id` <= 36231\", inplace = True)\n",
    "cleaned_maps = pd.DataFrame(maps, columns = ['match_id', 'team_one_name', 'team_two_name', 'map_winner', 'map_name', 'game_number', 'match_winner'])\n",
    "# Only took necessary columns\n",
    "cleaned_maps.rename(columns = {'team_one_name': 'team_one', 'team_two_name': 'team_two'}, inplace = True)\n",
    "cleaned_maps.drop_duplicates(inplace = True)\n",
    "cleaned_maps.head()"
   ]
  },
  {
   "cell_type": "markdown",
   "id": "standing-wireless",
   "metadata": {},
   "source": [
    "We can see that there are not many visibile errors except team_one and team_two sometimes switch which name comes first in team_one and team_two. So here we fix that by putting them in alphabetical order."
   ]
  },
  {
   "cell_type": "code",
   "execution_count": 7,
   "id": "north-oakland",
   "metadata": {},
   "outputs": [
    {
     "data": {
      "text/html": [
       "<div>\n",
       "<style scoped>\n",
       "    .dataframe tbody tr th:only-of-type {\n",
       "        vertical-align: middle;\n",
       "    }\n",
       "\n",
       "    .dataframe tbody tr th {\n",
       "        vertical-align: top;\n",
       "    }\n",
       "\n",
       "    .dataframe thead th {\n",
       "        text-align: right;\n",
       "    }\n",
       "</style>\n",
       "<table border=\"1\" class=\"dataframe\">\n",
       "  <thead>\n",
       "    <tr style=\"text-align: right;\">\n",
       "      <th></th>\n",
       "      <th>match_id</th>\n",
       "      <th>team_one</th>\n",
       "      <th>team_two</th>\n",
       "      <th>map_winner</th>\n",
       "      <th>map_name</th>\n",
       "      <th>game_number</th>\n",
       "      <th>match_winner</th>\n",
       "    </tr>\n",
       "  </thead>\n",
       "  <tbody>\n",
       "    <tr>\n",
       "      <th>6246</th>\n",
       "      <td>30991</td>\n",
       "      <td>Paris Eternal</td>\n",
       "      <td>Toronto Defiant</td>\n",
       "      <td>Paris Eternal</td>\n",
       "      <td>Lijiang Tower</td>\n",
       "      <td>1</td>\n",
       "      <td>Toronto Defiant</td>\n",
       "    </tr>\n",
       "    <tr>\n",
       "      <th>6248</th>\n",
       "      <td>30991</td>\n",
       "      <td>Paris Eternal</td>\n",
       "      <td>Toronto Defiant</td>\n",
       "      <td>Toronto Defiant</td>\n",
       "      <td>Eichenwalde</td>\n",
       "      <td>2</td>\n",
       "      <td>Toronto Defiant</td>\n",
       "    </tr>\n",
       "    <tr>\n",
       "      <th>6252</th>\n",
       "      <td>30991</td>\n",
       "      <td>Paris Eternal</td>\n",
       "      <td>Toronto Defiant</td>\n",
       "      <td>Toronto Defiant</td>\n",
       "      <td>Horizon Lunar Colony</td>\n",
       "      <td>3</td>\n",
       "      <td>Toronto Defiant</td>\n",
       "    </tr>\n",
       "    <tr>\n",
       "      <th>6255</th>\n",
       "      <td>30991</td>\n",
       "      <td>Paris Eternal</td>\n",
       "      <td>Toronto Defiant</td>\n",
       "      <td>Toronto Defiant</td>\n",
       "      <td>Havana</td>\n",
       "      <td>4</td>\n",
       "      <td>Toronto Defiant</td>\n",
       "    </tr>\n",
       "    <tr>\n",
       "      <th>6257</th>\n",
       "      <td>30992</td>\n",
       "      <td>London Spitfire</td>\n",
       "      <td>New York Excelsior</td>\n",
       "      <td>London Spitfire</td>\n",
       "      <td>Lijiang Tower</td>\n",
       "      <td>1</td>\n",
       "      <td>New York Excelsior</td>\n",
       "    </tr>\n",
       "  </tbody>\n",
       "</table>\n",
       "</div>"
      ],
      "text/plain": [
       "     match_id         team_one            team_two       map_winner  \\\n",
       "6246    30991    Paris Eternal     Toronto Defiant    Paris Eternal   \n",
       "6248    30991    Paris Eternal     Toronto Defiant  Toronto Defiant   \n",
       "6252    30991    Paris Eternal     Toronto Defiant  Toronto Defiant   \n",
       "6255    30991    Paris Eternal     Toronto Defiant  Toronto Defiant   \n",
       "6257    30992  London Spitfire  New York Excelsior  London Spitfire   \n",
       "\n",
       "                  map_name game_number        match_winner  \n",
       "6246         Lijiang Tower           1     Toronto Defiant  \n",
       "6248           Eichenwalde           2     Toronto Defiant  \n",
       "6252  Horizon Lunar Colony           3     Toronto Defiant  \n",
       "6255                Havana           4     Toronto Defiant  \n",
       "6257         Lijiang Tower           1  New York Excelsior  "
      ]
     },
     "execution_count": 7,
     "metadata": {},
     "output_type": "execute_result"
    }
   ],
   "source": [
    "new_frame = pd.DataFrame(columns = cleaned_maps.columns)\n",
    "for index, row in cleaned_maps.iterrows():\n",
    "    if row['team_two'] < row['team_one']:\n",
    "        new_frame.loc[index] = [row['match_id'], row['team_two'], row['team_one'], row['map_winner'], row['map_name'], row['game_number'], row['match_winner']]\n",
    "    else:\n",
    "        new_frame.loc[index] = [row['match_id'], row['team_one'], row['team_two'], row['map_winner'], row['map_name'], row['game_number'], row['match_winner']]\n",
    "cleaned_maps = new_frame\n",
    "cleaned_maps.head()      "
   ]
  },
  {
   "cell_type": "markdown",
   "id": "interstate-albania",
   "metadata": {},
   "source": [
    "Now that we have our map data tidy we can perform analysis on the two data sets we have created."
   ]
  },
  {
   "cell_type": "markdown",
   "id": "confidential-adventure",
   "metadata": {},
   "source": [
    "<center><img src=\"pictures/Eichenwalde.jpg\" alt=\"Hero's Gallery\" width=\"600\"></center>"
   ]
  },
  {
   "cell_type": "markdown",
   "id": "deluxe-choir",
   "metadata": {},
   "source": [
    "<div align=\"center\">\n",
    "      <Strong>\n",
    "          In Game Map: Eichenwalde\n",
    "      </Strong>\n",
    "</div>"
   ]
  },
  {
   "cell_type": "markdown",
   "id": "amateur-print",
   "metadata": {},
   "source": [
    "---"
   ]
  },
  {
   "cell_type": "markdown",
   "id": "professional-trash",
   "metadata": {},
   "source": [
    "<div align=\"center\">\n",
    "    <H1>\n",
    "        <Strong>\n",
    "            Exploratory Data Analysis\n",
    "        </Strong>\n",
    "    </H1>\n",
    "</div>"
   ]
  },
  {
   "cell_type": "markdown",
   "id": "connected-usage",
   "metadata": {},
   "source": [
    "<H3>\n",
    "    <Strong>\n",
    "        Pick Rate per Hero\n",
    "    </Strong>\n",
    "</H3>"
   ]
  },
  {
   "cell_type": "markdown",
   "id": "optical-gallery",
   "metadata": {},
   "source": [
    "One way of measuring how \"good\" a hero is in Overwatch is looking at the pick rate of each hero on different maps in Overwatch League. We wanted to see how much these numbers vary for different heroes, and we could then measure if a professional teams' decision to pick certain heroes is a good decision."
   ]
  },
  {
   "cell_type": "code",
   "execution_count": null,
   "id": "assured-diabetes",
   "metadata": {},
   "outputs": [],
   "source": [
    "map_list = data['map_name'].unique()\n",
    "hero_list = data['hero_name'].unique()\n",
    "# Pick rate is going to be a dictionary whose keys are the map names, and the values are dictionaries whose keys\n",
    "# are the hero names and the values are the number of picks for each hero on that map.\n",
    "pick_rate = {}\n",
    "for name in map_list:\n",
    "    # Initialized dictionary of map pick rate per hero \n",
    "    map_rate = {}\n",
    "    for val in hero_list:\n",
    "        map_rate[val] = 0\n",
    "    for index, row in data.iterrows():\n",
    "        #row[3] is map, and row[4] is hero\n",
    "        if row[3] == name:\n",
    "            # Increments the pick value of the hero if it appears in the row\n",
    "            map_rate[row[4]] = map_rate[row[4]] + 1\n",
    "    # assigns the dictionary to its map key\n",
    "    pick_rate[name] = map_rate\n",
    "pick_frame = pd.DataFrame()\n",
    "\n",
    "# Converts the double dictionary structure into a dataframe\n",
    "for name_map in map_list:\n",
    "    for name_hero in hero_list:\n",
    "        temp_dict = {'map_name': name_map, 'hero_name': name_hero, 'pick': pick_rate.get(name_map, 0).get(name_hero, 0)}\n",
    "        pick_frame = pick_frame.append(temp_dict, ignore_index = True)\n",
    "pick_frame.head()"
   ]
  },
  {
   "cell_type": "markdown",
   "id": "regional-seminar",
   "metadata": {},
   "source": [
    "Now we will plot the pick rate for each hero on each map on a heat map"
   ]
  },
  {
   "cell_type": "code",
   "execution_count": null,
   "id": "detailed-morrison",
   "metadata": {},
   "outputs": [],
   "source": [
    "new_data = pick_frame.pivot(index='map_name', columns='hero_name', values='pick')\n",
    "figure, axis = plt.subplots(figsize=(15,10))\n",
    "plt.title('Hero Pick Rate on Heat Map')\n",
    "# cmap will change the color to better support our analysis\n",
    "sns.heatmap(new_data,cmap = \"YlGnBu\", ax=axis, square=True, linewidths=.6)\n",
    "plt.show()"
   ]
  },
  {
   "cell_type": "markdown",
   "id": "national-alcohol",
   "metadata": {},
   "source": [
    "As we look at this heat map we see some very obvious trends. The darkest square or highest pick rate is clearly Symmetra on Lijiang Tower which makes sense. In the 2020 regular season of Overwatch, the most frequent strategy for teams was to use Symmetra's teleport to get to the control site much faster. Another common hero picked was Lucio on maps like Lijiang Tower, Nepal, and Ilios because Lucio has an ability to push back enemies. This is very useful on maps with holes or openings to be pushed to their death such as Lijiang Tower, Nepal, and Ilios. We can see other strategies/patterns in this heat map as we look at the least played heroes on maps in Overwatch League. These heroes include Bastion, Junkrat, Pharah, and Torbjorn who have seen very little pick rates as they are the most situational characters in the game. In high ranked gameplay, characters that can be easily countered such as these four are rarely seen on the competitive stage."
   ]
  },
  {
   "cell_type": "markdown",
   "id": "immediate-prevention",
   "metadata": {},
   "source": [
    "Another useful insight is to look at the dominant heroes in their subclasses. As we can see in terms of healers, Baptiste and Lucio have the highest pick rates across maps. Lucio, since the creation of Overwatch, has been viewed as the most consistently viable hero on a large number of maps. In terms of damagers (dps), Tracer and Ashe have the highest pick rates across maps, and for tanks, Wrecking Ball, Orisa, and D.Va have the highest pick rates. Additionally, an interesting analysis can be made on Symmetra's pick rates. While she appears to have an incredibly high pick rate, she really only has a very high pick rate on 4-5 maps and an extremely low pick rate on at least 8 maps. This shows how good Symmetra is but also how situational she can be on maps such as Busan, Oasis, and Nepal."
   ]
  },
  {
   "cell_type": "markdown",
   "id": "proof-wrapping",
   "metadata": {},
   "source": [
    "<H3>\n",
    "    <Strong>\n",
    "        Linear Regression for Wins\n",
    "    </Strong>\n",
    "</H3>"
   ]
  },
  {
   "cell_type": "markdown",
   "id": "mature-mother",
   "metadata": {},
   "source": [
    "We noticed that there are a lot of statistics to consider for each hero played as well as the \"class\" these heroes fall into. The three classes as mentioned before are Supports (Healer), Damager (DPS), and Tank. We wanted to see which stats are statistically significant to a hero's team winning the map. We looked at the 11 basic stats for each hero's class:\n",
    " - ```Assists```\n",
    " - ```Deaths```\n",
    " - ```Eliminations```\n",
    " - ```Hero Damage Done```\n",
    " - ```Ultimates Earned```\n",
    " - ```Objective Kills```\n",
    " - ```Objective Time```\n",
    " - ```Final Blows```\n",
    " - ```Healing Done``` - Primarily used for Healers\n",
    " - ```Barrier Damage Done``` - Primarily used for Tanks and Damagers\n",
    " - ```Damage Blocked``` - Primarily used for Tanks\n",
    " "
   ]
  },
  {
   "cell_type": "code",
   "execution_count": null,
   "id": "fuzzy-character",
   "metadata": {},
   "outputs": [],
   "source": [
    "merged_df = pd.merge(data, cleaned_maps, how = 'left', left_on = ['match_id', 'map_name'], right_on = ['match_id', 'map_name'])\n",
    "def win_calc (row):\n",
    "    # 1 represents the team in that row won the map\n",
    "    if (row['team_name'] == row['map_winner']):\n",
    "        return 1\n",
    "    return 0\n",
    "merged_df['winner'] = merged_df.apply(lambda row: win_calc(row), axis=1)\n",
    "merged_df.drop(['team_one', 'team_two', 'game_number', 'match_winner', 'map_winner'], axis = 1, inplace = True)\n",
    "merged_df.head()"
   ]
  },
  {
   "cell_type": "markdown",
   "id": "suspended-player",
   "metadata": {},
   "source": [
    "First we have to add a wins column that will act as the dependent variable in our regression. I had to merge the map data with our player data to add a winner column."
   ]
  },
  {
   "cell_type": "code",
   "execution_count": null,
   "id": "attended-asthma",
   "metadata": {},
   "outputs": [],
   "source": [
    "# Split the heroes by their class\n",
    "damagers = ['Ashe', 'Bastion', 'McCree', 'Echo', 'Genji', 'Hanzo', 'Junkrat', 'Mei', 'Pharah', 'Reaper', 'Soldier: 76', 'Sombra', 'Symmetra', 'Torbjörn', 'Tracer', 'Widowmaker']\n",
    "tanks = ['D.Va', 'Doomfist', 'Orisa', 'Reinhardt', 'Roadhog', 'Sigma', 'Winston', 'Wrecking Ball', 'Zarya']\n",
    "supports = ['Ana', 'Baptiste', 'Brigitte', 'Lúcio', 'Mercy', 'Moira', 'Zenyatta']\n",
    "classes = ['Damage', 'Support', 'Tank']\n",
    "res_array = []\n",
    "# For loop runs through the 3 classes of heroes\n",
    "for curr_class in classes:\n",
    "    # Take rows of only heroes of the current class\n",
    "    if (curr_class == 'Damage'):\n",
    "        curr_table = merged_df.loc[merged_df['hero_name'].isin(damagers)].copy()\n",
    "        formula_class = 'winner ~ Assists + Deaths + Eliminations + Hero_Damage_Done + Ultimates_Earned + Objective_Kills + Objective_Time + Final_Blows + Barrier_Damage_Done'\n",
    "    elif (curr_class == 'Support'):\n",
    "        curr_table = merged_df.loc[merged_df['hero_name'].isin(supports)].copy()\n",
    "        formula_class = 'winner ~ Assists + Deaths + Eliminations + Hero_Damage_Done + Ultimates_Earned + Objective_Kills + Objective_Time + Final_Blows + Healing_Done'\n",
    "    else:\n",
    "        curr_table = merged_df.loc[merged_df['hero_name'].isin(tanks)].copy()\n",
    "        formula_class = 'winner ~ Assists + Deaths + Eliminations + Hero_Damage_Done + Ultimates_Earned + Objective_Kills + Objective_Time + Final_Blows + Barrier_Damage_Done + Damage_Blocked'\n",
    "    # Different formuals depending on your roles\n",
    "    curr_table.columns = curr_table.columns.str.replace(' ','_')\n",
    "    # The spacing causes a syntax error so I replaced with underscore\n",
    "    eval_table = curr_table.drop(['match_id', 'team_name', 'player_name', 'map_name', 'hero_name'], axis = 1)\n",
    "    # Dropped non-integer columns not needed for the model\n",
    "    x = eval_table.drop(['winner'], axis = 1)\n",
    "    y = eval_table['winner']\n",
    "    # x is the dependent variables and y is the independent\n",
    "    x_train, x_test, y_train, y_test = model_selection.train_test_split(x, y, test_size = 0.25)\n",
    "    # Split into test and training set\n",
    "    x_train['winner'] = y_train\n",
    "    mod = smf.ols(formula = formula_class, data = x_train)\n",
    "    res = mod.fit()\n",
    "    res_array.append(res)\n",
    "    # Array that has healer's fit in index 0, DPS's fit in index 1, and Tank's fit in index 2 "
   ]
  },
  {
   "cell_type": "markdown",
   "id": "magnetic-wells",
   "metadata": {},
   "source": [
    "The variables that I am testing, as mentioned above, were fit using ```smf.ols```. I split the data into training and test sets for x and y and used the model selection library for the splitting. All three classes had similar variables being looked into. The exception was healers and DPS not having damage blocked because they do not have a barrier, and the other exception was support's (healer) not having barrier damage. Healer's do incredibly little damage to barrier so it is not a fair stat to look at for their class. Now we will look at the which variables impacted whether a team wins their map."
   ]
  },
  {
   "cell_type": "markdown",
   "id": "fossil-polish",
   "metadata": {},
   "source": [
    "<H3>\n",
    "    <Strong>\n",
    "        Regression Analysis\n",
    "    </Strong>\n",
    "</H3>"
   ]
  },
  {
   "cell_type": "markdown",
   "id": "outer-science",
   "metadata": {},
   "source": [
    "### Damagers (DPS)"
   ]
  },
  {
   "cell_type": "code",
   "execution_count": null,
   "id": "mediterranean-scott",
   "metadata": {},
   "outputs": [],
   "source": [
    "# Damage regression fit\n",
    "print('Coef: \\n{}'.format(res_array[0].params.to_string()))\n",
    "print('\\nP Values: \\n{}'.format(res_array[0].pvalues.to_string()))"
   ]
  },
  {
   "cell_type": "markdown",
   "id": "german-approach",
   "metadata": {},
   "source": [
    "The first thing we look at after a linear regression is whether the independent variables are significant to the dependent variable, and in our case for DPS role all of the variables we are looking at have a p-value of less then 0.05 which means our variables are significant to the model. This ia a good first step but the next analysis is to see how they affect a team's ability to win. We notice that ```Deaths```, ```Hero Damage Done```, ```Ultimates Earned```, ```Objective Time```, and ```Barrier Damage Done``` all have a negative correlation to a team winning. While most these correlations have a low mangitude, ```Deaths``` makes the most sense as the more you die the less contributions you have to the team. The next few are tricky to understand but there is logic behind all of them. For ```Objective Time```, you wouldn't want you're main source of damage to be sitting on the objective instead of going out to get kills so a negative correlation makes intuitive sense. For ```Barrier Damage Done```, Overwatch League is incredibly fast paced so wasting a large portion of time breaking the enemies shield is not ideal. Usually between off angles and other teammate's contriubtion, a DPS hero will not solely focus on breaking the barrier so this makes sense to have a slight negative correlation. Now ```Hero Damage Done``` is more difficult to interpret as DPS's role is to put our damage; however, this isn't technically correct. The job of a DPS hero is to get eliminations and pick off the lower health enemies such as their support and DPS hero's. The reason there is a slight negative correlation is it is not beneficial for these heroes to focus on outputing the most amount of damage which would be continously fighting the enemy tanks. Tanks have the largest health and usually a form of a regenerative shield. You're team will lose if you focus too much of you're time and resources on fighting high health enemies such as Wrecking Ball or Winston. The enemy team will pick you apart if you do not have perfect decision making. We know more elimination participation is what our model predicts is best to win a game. We can see this with the positive correlation to ```Assists```, ```Eliminations```, ```Objective Kills```, and ```\"Final Blows```. These are all ```Elimination``` stats."
   ]
  },
  {
   "cell_type": "markdown",
   "id": "wrapped-subject",
   "metadata": {},
   "source": [
    "<center><img src=\"pictures/Lucio.jpg\" alt=\"Hero's Gallery\" width=\"600\"></center>"
   ]
  },
  {
   "cell_type": "markdown",
   "id": "front-yemen",
   "metadata": {},
   "source": [
    "<div align=\"center\">\n",
    "      <Strong>\n",
    "          In Game Hero: Lucio\n",
    "      </Strong>\n",
    "</div>"
   ]
  },
  {
   "cell_type": "markdown",
   "id": "happy-phenomenon",
   "metadata": {},
   "source": [
    "### Supports (Healers)"
   ]
  },
  {
   "cell_type": "code",
   "execution_count": null,
   "id": "charming-ecology",
   "metadata": {},
   "outputs": [],
   "source": [
    "# Support regression fit\n",
    "print('Coef: \\n{}'.format(res_array[1].params.to_string()))\n",
    "print('\\nP Values: \\n{}'.format(res_array[1].pvalues.to_string()))"
   ]
  },
  {
   "cell_type": "markdown",
   "id": "popular-worthy",
   "metadata": {},
   "source": [
    "When we look at the Support (Healer) role, we see different correlation trends to the DPS role as shown above. We have more obvious trends here because as a healer, they prioritize aiding other players. The negative correlated variables to winning include ```Assists```, ```Deaths```, ```Hero Damage Done```, ```Objective Kills```, ```Healing Done```. ```Deaths``` makes the most sense on why it is negatively correlated as if you are dead, you cannot aid the team. ```Objective Kills``` also makes sense why it would be negatively correlated because you're goal as a healer is not to be focusing on objective fights. If any eliminations occur, they usually occur away from the objective on enemy DPS or healers who are not on the objective. ```Hero Damage Done``` and ```Healing Done``` both have very small negative correlations, and the ```Healing Done``` stat is confusing as to why it is negative. This does make intuitive sense because healers can do the most healing on tanks who have the most health and this will make their healing stat sky rocket. However, they are not helping the team if they are just focusing solely on healing the tanks. Smaller aid to DPS and you're other healer is important and could cause this correlation to be negative. When we look at the positive correlation we again see a focus on ```Eliminations``` based stats with ```Eliminations```, ```Ultimates Earned```, ```Objective Time```, ```Final Blows```. This logically makes sense due to area healing healers who's job is usually to stay on the objective and run away if the enemy focuses them. The ```Eliminations``` and ```Ultimates Earned``` is a very important statistic because if healers can focus on supporting their teammates as well as getting kills then they will give the best efficiency for their team. ```Ultimates Earned``` is the most important because support ultimates are team winning fights usually so if you can build them up faster then you are contributing more to the team."
   ]
  },
  {
   "cell_type": "markdown",
   "id": "champion-publicity",
   "metadata": {},
   "source": [
    "### Tanks"
   ]
  },
  {
   "cell_type": "code",
   "execution_count": null,
   "id": "warming-dietary",
   "metadata": {},
   "outputs": [],
   "source": [
    "# Tank regression fit\n",
    "print('Coef: \\n{}'.format(res_array[2].params.to_string()))\n",
    "print('\\nP Values: \\n{}'.format(res_array[2].pvalues.to_string()))"
   ]
  },
  {
   "cell_type": "markdown",
   "id": "gothic-leone",
   "metadata": {},
   "source": [
    "Tanks' variable correlation to predicting a win makes the most sense out of the three roles. There only ```Eliminations```, ```Objective Kills```, and ```Damage Blocked``` that have a positive correlations. This lines up with the role of tanks whose job is to fight on the objectives and defend their teammates. They should be blocking damage, killing enemies that are close to them, and fighthing near the objective. All of the other parameters have a negative correlation and this includes ```Assists```, ```Deaths```, ```Hero Damage Done```, ```Ultimates Earned```, ```Objective Time```, ```Final Blows```, and ```Barrier Damage Done```. ```Assists```, ```Deaths```, and ```Hero Damage Done``` makes sense because these are not constructive to protecting you're teammates. ```Ultimates Earned``` is also an area that most tank players tend to over use. While they are considered \"big\" abilities, they are also prone to be overused and used incorrectly. Our model is showing that staying with the team and focusing on normal abilities is better than farming/building your ultimate. ```Barrier Damage Done``` is also a stat that tanks cannot affect that much because very view have shield break abilities. For all of these parameters, we must have remember that these correlations are very small in magnitude, so there interpretation must be taken with a grain of salt. For example, the hero damage stat in DPS heroes most likely should be positive; however, the magnitude is incredibly small. Also, the healer healing amount should be positive but again the magnitude is very small so with more data it could/most likely become positive."
   ]
  },
  {
   "cell_type": "markdown",
   "id": "efficient-paper",
   "metadata": {},
   "source": [
    "### F Test Analysis"
   ]
  },
  {
   "cell_type": "code",
   "execution_count": null,
   "id": "strategic-margin",
   "metadata": {},
   "outputs": [],
   "source": [
    "# F tests for all three classes\n",
    "for i in range (0, 3):\n",
    "    print('{}:'.format(classes[i]))\n",
    "    # Runs f test\n",
    "    ftest = res_array[i].f_test(np.identity(len(res_array[i].params)))\n",
    "    print('F Statistic: {}'.format(f.ppf(0.95, ftest.df_num, ftest.df_denom)))\n",
    "    print('F Value: {}'.format(ftest.fvalue[0][0]))\n",
    "    print('P Value: {}'.format(ftest.pvalue))"
   ]
  },
  {
   "cell_type": "markdown",
   "id": "defensive-treat",
   "metadata": {},
   "source": [
    "As we can see from our f test all of our F Values are greater than our F Statistics and our P Values are all less than 0.05, our significance level. This means we have created a significant model with relating a predicted win to our paramaters for each subclass of the heroes. "
   ]
  },
  {
   "cell_type": "markdown",
   "id": "subjective-nitrogen",
   "metadata": {},
   "source": [
    "<H3>\n",
    "    <Strong>\n",
    "        Determining Best Heroes per Class\n",
    "    </Strong>\n",
    "</H3>"
   ]
  },
  {
   "cell_type": "markdown",
   "id": "practical-adolescent",
   "metadata": {},
   "source": [
    "In order to determine the best heroes for each class, one could spend a lot of time manually testing and collecting DPS (damage per second), healing ability, movement capability, and a horde of other statistics, and then compare them to one another, then do another round of in-game testing to take into account player and map variability, etc. However, as poor college students trying to make it through finals, we do not have this time. We can, however, have other people test out the heroes, find their weaknesses and strengths, and determine their overall playability. Professional players are the best of the best. They practice everyday and are constantly limit-testing heroes to their fullest capability. As a result, we can look to them to tell us who the best heroes are."
   ]
  },
  {
   "cell_type": "markdown",
   "id": "northern-completion",
   "metadata": {},
   "source": [
    "<H3>\n",
    "        Which heroes do the best players play?\n",
    "</H3>"
   ]
  },
  {
   "cell_type": "markdown",
   "id": "unavailable-stage",
   "metadata": {},
   "source": [
    "In order to determine which heroes are most frequently used by professional players, we will first split the available hero gallery into their respective classes. We will then determine the <b>Efficiency</b> of each player compared to other players playing in the same class by applying an equation that takes into account all of the statistics available in the dataframe. Because different classes are meant to emphasize different statistics, we will be applying different efficiency equations for each class. We will then graph the efficiencies of each player for each class in order to compare them to their teammates as well as their oponents."
   ]
  },
  {
   "cell_type": "code",
   "execution_count": null,
   "id": "minimal-knight",
   "metadata": {},
   "outputs": [],
   "source": [
    "# Ignore map and average stats and prepare to plot efficiencies of each team per class\n",
    "average_table = data.drop('map_name', axis=1, inplace=False)\n",
    "average_table = average_table.groupby(['match_id', 'team_name', 'player_name', 'hero_name']).mean().reset_index()\n",
    "teams = average_table['team_name'].unique()"
   ]
  },
  {
   "cell_type": "markdown",
   "id": "saved-investor",
   "metadata": {},
   "source": [
    "<H3>\n",
    "        Efficiency Equations for each Class:\n",
    "</H3>"
   ]
  },
  {
   "cell_type": "markdown",
   "id": "express-tucson",
   "metadata": {},
   "source": [
    "By taking into account the correlation of statistics to success found above through our linear regression, we are able to determine an equation for calculating the efficiency of each player for each class.\n",
    "\n",
    "<b>Damage</b> heroes are responsible for seeking out, engaging, and defeating the enemy using their varied tools and abilities. It is up to the damage heroes to secure kills. Because of this, we will add more weight to `Assists`, `Barrier Damage Done`, `Eliminations`, `All Damage Done`, `Final Blows`, and `Objective Kills`.\n",
    "* Damage Efficiency = 2(Ass.) + 2(Barrier Dam.) - 1.5(Deaths) + 2.5(Eliminations) + 2(All Dam.) + 2(Final Blows) + (Healing Done) + 2(Obj Kills) + (Obj Time) + 1.5(Ults Earned)\n",
    "\n",
    "<b>Support</b> heroes empower their allies by healing them, boosting their damage, and providing vital utility. They act as the backbone of the team's survival. For this reason we will add more weight to `Assists`, `Healing Done`, `Objective Kills`, `Objective Time`, and `Ultimates Earned`, and penalize stronger for `Deaths`.\n",
    "* Support Efficiency = 2(Ass.) + 1.5(Barrier Dam.) - 2(Deaths) + 1.5(Eliminations) + (All Dam.) + (Final Blows) + 2.5(Healing Done) + 1.5(Obj Kills) + (Obj Time) + 1.5(Ults Earned)\n",
    "\n",
    "<b>Tanks</b> specialize in protecting allies, disrupting enemies, and occupying the front line. They have high survivability and abilities that protect themselves and others with shields and crowd control. As a result, we will add more weight to `Assists`, `Damaged Blocked`, `Eliminations`, `All Damage Done`, `Objective Kills`, `Objective Time`, and penalize much harder for `Deaths`.\n",
    "* Tank Efficiency = 1.5(Ass.) + (Barrier Dam.) + 1.5(Dam. Blocked) - 3(Deaths) + 2(Eliminations) + 1.5(All Dam.) + (Final Blows) + (Healing Done) + 1.5(Obj Kills) + 2(Obj Time) + (Ults Earned)\n",
    "\n",
    "Now that we have determined our equations for each class, we can now calculate the effiencies of each player and then graph the results. This will show us which players are the best at each class, and from there we can find the most frequently used heroes chosen by the most efficient players."
   ]
  },
  {
   "cell_type": "code",
   "execution_count": null,
   "id": "assigned-oklahoma",
   "metadata": {},
   "outputs": [],
   "source": [
    "classes = [damagers, supports, tanks]\n",
    "class_names = [\"Damage\", \"Support\", \"Tank\"]\n",
    "for curr_class, class_name in zip(classes, class_names):\n",
    "    # Take rows of only heroes of the current class\n",
    "    curr_table = average_table.loc[average_table['hero_name'].isin(curr_class)].copy()\n",
    "\n",
    "    # Define equations we will use to calculate overall efficiency and create efficiency column\n",
    "    def efficiency_equation(row):\n",
    "        if (class_name == \"Damage\"):\n",
    "            return (2*row['Assists'] + 2*row['Barrier Damage Done'] - 1.5*row['Deaths'] + 2.5*row['Eliminations'] + 2*row['All Damage Done']\n",
    "                    + 2*row['Final Blows'] + row['Healing Done'] + 2*row['Objective Kills'] + row['Objective Time'] + 1.5*row['Ultimates Earned'])\n",
    "        elif (class_name == \"Support\"):\n",
    "            return (2*row['Assists'] + 1.5*row['Barrier Damage Done'] - 2*row['Deaths'] + 2*row['Eliminations'] + row['All Damage Done']\n",
    "                    + row['Final Blows'] + 2.5*row['Healing Done'] + 1.5*row['Objective Kills'] + 1.5*row['Objective Time'] + 1.5*row['Ultimates Earned'])\n",
    "        else:\n",
    "            return (1.5*row['Assists'] + row['Barrier Damage Done'] + 1.5*row['Damage Blocked'] - 3*row['Deaths'] + 2*row['Eliminations'] + row['All Damage Done']\n",
    "                    + row['Final Blows'] + row['Healing Done'] + 1.5*row['Objective Kills'] + 1.5*row['Objective Time'] + row['Ultimates Earned'])\n",
    "            \n",
    "    curr_table['Efficiency'] = curr_table.apply(lambda row: efficiency_equation(row), axis=1)\n",
    "\n",
    "    # Ignore rows with less than 5000 efficiency as that probably means the player only played as the healer for a short period of time\n",
    "    # and drop newly irrelevant columns\n",
    "    curr_table = curr_table[curr_table.Efficiency > 5000].groupby(['team_name', 'player_name']).mean().reset_index().sort_values('Efficiency', ascending=False)\n",
    "    curr_table['Efficiency'] = curr_table['Efficiency'].round(decimals = 2)\n",
    "    best_efficiency_table = curr_table.loc[curr_table.groupby('team_name')['Efficiency'].idxmax()].sort_values('Efficiency', ascending=False)\n",
    "\n",
    "    # Plot efficiencies of each player for each team\n",
    "    plots = plt.figure(figsize=(12.5,7), dpi=80).subplots()\n",
    "    plt.grid(color = 'gray', linestyle = '--', linewidth = 0.2)\n",
    "    for team in teams:\n",
    "        plots.scatter(curr_table.loc[curr_table['team_name'] == team]['team_name'].tolist(), curr_table.loc[curr_table['team_name'] == team]['Efficiency'].tolist(), label=team, s=120)\n",
    "    for index, row in  best_efficiency_table.iterrows():\n",
    "        plots.annotate(row['player_name'], (row['team_name'], row['Efficiency']), xytext=(row['team_name'], row['Efficiency'] + 750))\n",
    "    plots.set_xticklabels(teams, rotation=75)\n",
    "    plots.set_xlabel('Team', fontsize=20)\n",
    "    plots.set_ylabel('Effiency', fontsize=20)\n",
    "    plots.set_yticks([5000,10000,15000,20000,25000,30000,35000,40000,45000,50000])\n",
    "    plots.set_title('Comparison of Efficiencies as ' + class_name + ' Heroes per Team', fontsize=22)\n",
    "    print(\"\\nTop 3 most efficient \" + class_name + \" players: \")\n",
    "    for index, row in curr_table.head(3).iterrows():\n",
    "        print(row['player_name'] + \" (\" + row['team_name'] + \"): \" + str(row['Efficiency']))\n",
    "    "
   ]
  },
  {
   "cell_type": "markdown",
   "id": "induced-conflict",
   "metadata": {},
   "source": [
    "These graphs allow us to easily see the most efficient players for each team on each class. Notably, we can see that one support player in particular stands out as the most efficienct support and damage hero for his team: Haksal. In fact, we could've seen this coming as Haksal, now retired, was regarded as one of the greatest Genji and Brigitte players of all time. His impact as a damage and support character gave New York Excelsior a huge upper hand against their opponents as the year before he had won the OWL's first Rookie of the Year award, and was named both an OWL Role Star and All-Star."
   ]
  },
  {
   "cell_type": "markdown",
   "id": "earned-syndicate",
   "metadata": {},
   "source": [
    "<H3>\n",
    "    <Strong>\n",
    "        Hero Picks by the Top 3 Players of each Class\n",
    "    </Strong>\n",
    "</H3>"
   ]
  },
  {
   "cell_type": "markdown",
   "id": "certain-southwest",
   "metadata": {},
   "source": [
    "For each class, we found that the most efficient three players are:  \n",
    "<b>Damage</b>\n",
    "1. Saucy (Atlanta Reign): 45351.24\n",
    "2. zYKK (Toronto Defiant): 45013.08\n",
    "3. Agilities (Toronto Defiant): 42955.2\n",
    "\n",
    "<b>Support</b>  \n",
    "1. Haksal (New York Excelsior): 50429.34\n",
    "2. Boombox (Philadelphia Fusion): 50166.52\n",
    "3. ir1s (Atlanta Reign): 49762.16\n",
    "\n",
    "<b>Tank</b>\n",
    "1. LhCloudy (Los Angeles Gladiators): 47879.26\n",
    "2. GiG (Los Angeles Valiant): 46805.45\n",
    "3. Trill (Dallas Fuel): 45493.45\n",
    "\n",
    "Now, we can find the distribution of hero picks by each player i.e. what percent of in-game time they spend playing each hero."
   ]
  },
  {
   "cell_type": "code",
   "execution_count": null,
   "id": "intimate-contest",
   "metadata": {},
   "outputs": [],
   "source": [
    "best_damagers = ['Saucy', 'zYKK', 'Agilities']\n",
    "best_supports = ['Haksal', 'Boombox', 'ir1s']\n",
    "best_tanks = ['LhCloudy', 'GiG', 'Trill']\n",
    "best_classes = [best_damagers, best_supports, best_tanks]\n",
    "\n",
    "colors={'Mei':'dodgerblue', 'Sombra':'green', 'Genji':'crimson', 'Tracer':'yellow', 'Junkrat':'salmon', 'Echo':'brown', 'Hanzo':'purple', 'Widowmaker':'orange', \\\n",
    "    'Pharah':'pink', 'Soldier: 76':'cyan', 'Brigitte':'dodgerblue', 'Lúcio':'green', 'Baptiste':'crimson', 'Moira':'yellow', 'Ana':'salmon', 'Zenyatta':'springgreen',\\\n",
    "        'Reinhardt':'dodgerblue', 'Winston':'green', 'Orisa':'crimson', 'Wrecking Ball':'yellow', 'Symmetra': 'magenta', 'Torbjörn': 'purple'}\n",
    "for curr_class, curr_best, class_name in zip(classes, best_classes, class_names):\n",
    "    # Plot pie chart for best damage players\n",
    "    curr_table = data[['player_name', 'hero_name']]\n",
    "    curr_table = curr_table.loc[curr_table['hero_name'].isin(curr_class)].copy()\n",
    "    curr_table = curr_table.loc[curr_table['player_name'].isin(curr_best)]\n",
    "\n",
    "    count = 1\n",
    "    fig, axs = plt.subplots(nrows=1, ncols=3, figsize=(21, 6.6))\n",
    "    plt.subplots_adjust(wspace=.25)\n",
    "    fig.suptitle(\"Distribution of Hero Picks for Top 3 Efficient \" + class_name + \" Players\", fontsize=18, y=0.95)\n",
    "    for player, ax in zip(curr_best, axs.ravel()):\n",
    "        title = str(count) + '. ' + player\n",
    "        curr_tab = curr_table.loc[curr_table['player_name'] == player]\n",
    "        ax = curr_tab['hero_name'].value_counts().plot.pie(title=title, autopct='%1.0f%%', ax=ax, colors=[colors[v] for v in curr_tab['hero_name'].value_counts().keys()])\n",
    "        ax.set_ylabel('')\n",
    "        count += 1"
   ]
  },
  {
   "cell_type": "markdown",
   "id": "sudden-dover",
   "metadata": {},
   "source": [
    "Here, we can see the most frequent hero picks by the most consistent and effective players for each class. For the <b>damage</b> class, the most consistently played hero is Mei, followed by Sombra and Symmetra. Though Mei has a steep learning curve, the payoff is immense as her [versatility is unmatched](https://www.gamesradar.com/overwatch-mei-character/#:~:text=Although%20she's%20difficult%20to%20play,master%20her%20abilities%20and%20playstyle.) as well as her strong ability to be a nuisance player. As a result, we would recommend either Sombra or Symmetra as they are easier to play for beginners, but for intermediate to advanced players we would recommend Mei. For the <b>support</b> class it is a bit harder to see who is the strongest hero. While Haksal chooses Brigitte or Lucio, Boombox or ir1s most frequently flock towards Baptiste or Moira. In this case, we would say the strongest choices are either Brigitte or Baptiste, followed by Moira. As for the <b>tank</b> class, this is much easier to see. All three players heavily main Reinhardt, as Reinhardt’s abilities are [some of the best](https://www.dexerto.com/overwatch/the-ultimate-overwatch-reinhardt-guide-1570760/#:~:text=Reinhardt's%20abilities%20are%20some%20of,barrier%20when%20pushing%20an%20objective.) in Overwatch especially in regards to the Tank role. For this reason, we would recommend Reinhardt first and Wrecking Ball second as tank picks."
   ]
  },
  {
   "cell_type": "markdown",
   "id": "three-ancient",
   "metadata": {},
   "source": [
    "<H3>\n",
    "    <Strong>\n",
    "        Win Percentage for Heroes\n",
    "    </Strong>\n",
    "</H3>"
   ]
  },
  {
   "cell_type": "markdown",
   "id": "computational-score",
   "metadata": {},
   "source": [
    "In this section, the win percentage of a hero on every map will be evaluated. Win percentage for a hero on a map is a very important statistic to evaluate when trying to build the optimal team composition for a map. Personal player stats are very important to look at, but one should also consider win percentage to determine the best overall composition of heroes."
   ]
  },
  {
   "cell_type": "code",
   "execution_count": null,
   "id": "knowing-brook",
   "metadata": {},
   "outputs": [],
   "source": [
    "#Filtering the multiple games that exist for a hero on every map\n",
    "# then calculating the win percentages for that hero on that map\n",
    "heroes, winners, maps = [], [], []\n",
    "for map in map_list:\n",
    "    for hero in hero_list:\n",
    "        temp_hero = merged_df.loc[merged_df['hero_name'] == hero] \n",
    "        scores = temp_hero.loc[temp_hero['map_name'] == map]['winner']\n",
    "        #To ensure no divide by zero error\n",
    "        if (scores.size) == 0:\n",
    "            winners.append(0)\n",
    "        else:\n",
    "            winners.append((sum(scores) / scores.size) * 100)\n",
    "        heroes.append(hero)\n",
    "        maps.append(map)\n",
    "        #Made three arrays to store the map, hero, and win percentage to be \n",
    "        # added to a DataFrame\n",
    "win_pct = pd.DataFrame()\n",
    "win_pct['Hero'], win_pct['Map'], win_pct['Win_Pct']  = heroes, maps, winners\n",
    "#Sorting by map then hero so the variables are in the same order as efficiency\n",
    "#Helps later when combining tables\n",
    "win_pct = win_pct.sort_values(by=['Map', 'Hero'], ascending = True).reset_index().drop('index', axis = 1)\n",
    "win_pct.head(10)"
   ]
  },
  {
   "cell_type": "markdown",
   "id": "consolidated-arabic",
   "metadata": {},
   "source": [
    "Win percentage was evaluated versus wins to ensure that this was a fair metric to use for all heroes. Heroes are disproportionality chosen in the 2020 Overwatch League Season therefore it is important to ensure that the metric used can be standardized to low inputs or low pick rates. At first glance, the dataframe above shows a 0% win percentage for Bastion on the map Blizzard World. This means that a team that chose Bastion for Blizzard World never won a game in the 2020 Season of Overwatch League. However, Bastion is a hero that has a low pick rate this season and Bastion has not been a historically good pick on Blizzard World. Therefore, the low win percentage can be partially explained by low usage. Later, the win_pct DataFrame will be used in conjunction with efficiency to formulate a final team composition for every map. "
   ]
  },
  {
   "cell_type": "markdown",
   "id": "consistent-greece",
   "metadata": {},
   "source": [
    "<H3>\n",
    "    <Strong>\n",
    "        Best Heroes From Each Class Based on Efficiency\n",
    "    </Strong>\n",
    "</H3>"
   ]
  },
  {
   "cell_type": "markdown",
   "id": "basic-archive",
   "metadata": {},
   "source": [
    "Here efficiency will be calculated for every hero on every map. This will be done to eventually pair this metric with win percentage to create a final team composition for every map that esports teams should use in the future."
   ]
  },
  {
   "cell_type": "code",
   "execution_count": null,
   "id": "pretty-sleeve",
   "metadata": {},
   "outputs": [],
   "source": [
    "#Taking the average statistics for a hero in a match on a certain map and calculating the efficiency \n",
    "# based on the previous efficiency equation. Will end with a dataframe of the efficiency of every \n",
    "# hero on every map\n",
    "average_table = data\n",
    "average_table = average_table.groupby(['match_id', 'map_name', 'hero_name']).mean().reset_index()\n",
    "classes = [damagers, supports, tanks]\n",
    "class_names = [\"Damage\", \"Support\", \"Tank\"]\n",
    "efficiency_df = pd.DataFrame()\n",
    "#Ensuring that the efficiency function is applied on a class basis\n",
    "for curr_class, class_name in zip(classes, class_names):\n",
    "    #Take rows of only heroes of the current class\n",
    "    curr_table = average_table.loc[average_table['hero_name'].isin(curr_class)].copy()\n",
    "    #Define equations we will use to calculate overall efficiency and create efficiency column\n",
    "    curr_table['Efficiency'] = curr_table.apply(lambda row: efficiency_equation(row), axis=1)\n",
    "    heroes, effic, maps = [], [], []\n",
    "    #Averaging out efficiency for a hero on a specific map\n",
    "    for map in map_list:\n",
    "        for hero in curr_class:\n",
    "            temp_hero = curr_table.loc[curr_table['hero_name'] == hero] \n",
    "            scores = temp_hero.loc[temp_hero['map_name'] == map]['Efficiency']\n",
    "            #To prevent divide by zero\n",
    "            if (scores.size) == 0:\n",
    "                effic.append(0)\n",
    "            else:\n",
    "                effic.append(scores.mean())\n",
    "            heroes.append(hero)\n",
    "            maps.append(map)\n",
    "    temp_effic = pd.DataFrame()\n",
    "    temp_effic['Hero'], temp_effic['Map'], temp_effic['Efficiency']  = heroes, maps, effic\n",
    "    temp_effic['Efficiency'] = temp_effic['Efficiency'].round(decimals = 2)\n",
    "    efficiency_df = pd.concat([efficiency_df, temp_effic])\n",
    "#Sorting by map then hero so the variables are in the same order as win percentage\n",
    "#Helps later when combining tables\n",
    "efficiency_df = efficiency_df.sort_values(by=['Map', 'Hero'], ascending = True).reset_index().drop('index', axis = 1)\n",
    "efficiency_df"
   ]
  },
  {
   "cell_type": "markdown",
   "id": "induced-savannah",
   "metadata": {},
   "source": [
    "The efficiency equation that was used previously in player efficiency will also be used here to calculate the efficiency of every hero on every map. The same equation is used for the same reasons stated previously. The equation was created to gain an overall efficiency for a hero to better understand the various statistics and the overall efficiency of a hero. It also is worth pointing out that as can be seen in the efficiency_df DataFrame that Bastion on Blizzard World has an efficiency of 0. This is similar to what was discussed in the previous win percentage section. Bastion was rarely used or was never used on Blizzard World. This will explain the extremely low efficiency numbers for almost all heroes on a specific map."
   ]
  },
  {
   "cell_type": "markdown",
   "id": "civilian-birmingham",
   "metadata": {},
   "source": [
    "<center><img src=\"pictures/ilios.png\" alt=\"Ilios\" width=\"600\"></center>"
   ]
  },
  {
   "cell_type": "markdown",
   "id": "english-inflation",
   "metadata": {},
   "source": [
    "<div align=\"center\">\n",
    "      <Strong>\n",
    "          In Game Map: Ilios\n",
    "      </Strong>\n",
    "</div>"
   ]
  },
  {
   "cell_type": "markdown",
   "id": "built-dating",
   "metadata": {},
   "source": [
    "---"
   ]
  },
  {
   "cell_type": "markdown",
   "id": "acute-leather",
   "metadata": {},
   "source": [
    "<div align=\"center\">\n",
    "    <H1>\n",
    "        <Strong>\n",
    "            Determining Optimal Hero Compositions\n",
    "        </Strong>\n",
    "    </H1>\n",
    "</div>"
   ]
  },
  {
   "cell_type": "markdown",
   "id": "expected-disability",
   "metadata": {},
   "source": [
    "### Best Team Composition for Every Map Based on Efficiency"
   ]
  },
  {
   "cell_type": "markdown",
   "id": "macro-custody",
   "metadata": {},
   "source": [
    "A dataset that was tidier will be more favorable for analysis moving forard. Therefore, we created a similar DataFrame as win_pct to aid future analysis. We also want to look to see how the most efficient players on a map compare to the final composition of heroes for a map. So, in this section, we will evaluate the best two heroes per hero class per map."
   ]
  },
  {
   "cell_type": "code",
   "execution_count": null,
   "id": "preliminary-vocabulary",
   "metadata": {},
   "outputs": [],
   "source": [
    "hero_class, classes = [], ['Damage','Support', 'Tank']\n",
    "#Appending class name to win percentage and efficiency dataframe\n",
    "for index,row in efficiency_df.iterrows():\n",
    "    if row['Hero'] in damagers:\n",
    "        hero_class.append('Damage')\n",
    "    if row['Hero'] in tanks:\n",
    "        hero_class.append('Tank')\n",
    "    if row['Hero'] in supports:\n",
    "        hero_class.append('Support')\n",
    "win_pct['Class'] = hero_class\n",
    "efficiency_df['Class'] = hero_class\n",
    "top_two_df = pd.DataFrame()\n",
    "#Finding top two heroes per class per map based on efficiency score\n",
    "for map in map_list:\n",
    "    temp_df = efficiency_df.loc[efficiency_df['Map'] == map]\n",
    "    for class_type in classes:\n",
    "        #Filtering by map then class\n",
    "        temp_df = efficiency_df.loc[efficiency_df['Map'] == map]\n",
    "        temp_df = temp_df.loc[temp_df['Class'] == class_type]\n",
    "        temp_df = temp_df.sort_values(by=['Efficiency'], ascending=False).head(2)\n",
    "        combine = [top_two_df, temp_df]\n",
    "        top_two_df = pd.concat(combine)\n",
    "top_two_df.head(10)"
   ]
  },
  {
   "cell_type": "markdown",
   "id": "american-shell",
   "metadata": {},
   "source": [
    "This top_two_df Dataframe is very hard to read and analyze. Therefore, we will make a tidier DataFrame now with all of the two most efficient hero picks for every map. "
   ]
  },
  {
   "cell_type": "code",
   "execution_count": null,
   "id": "former-maker",
   "metadata": {},
   "outputs": [],
   "source": [
    "#Putting our results from the previous cell into dataframe form\n",
    "#Will show the best team composition of heroes for every map based on efficiency\n",
    "team_comp_effic_df = pd.DataFrame(columns = ['Map', 'Damage #1', 'Damage #2', 'Support #1', 'Support #2', 'Tank #1', 'Tank #2'])\n",
    "for map in map_list:\n",
    "    map_top_two = top_two_df.loc[top_two_df['Map'] == map]\n",
    "    #Only need index 0 because only need map name once for display\n",
    "    comp_array = np.array(map_top_two['Map'])[0]\n",
    "    comp_array = np.append(comp_array, np.array(map_top_two['Hero']))\n",
    "    #converting to a series to ensure it can be appended to a dataframe\n",
    "    comp_series = pd.Series(comp_array, index = team_comp_effic_df.columns)\n",
    "    team_comp_effic_df = team_comp_effic_df.append(comp_series, ignore_index=True)\n",
    "team_comp_effic_df =  team_comp_effic_df[['Map','Damage #1','Damage #2','Tank #1','Tank #2','Support #1','Support #2']]\n",
    "team_comp_effic_df"
   ]
  },
  {
   "cell_type": "markdown",
   "id": "unlikely-reference",
   "metadata": {},
   "source": [
    "The team composition for every map is now displayed in the DataFrame table above based on average efficiency. We decided to take the two top most efficient heroes for every class on every map because in this season of Overwatch League teams were restricted to choose two damage characters, two tank characters, and two support characters. There is also a distinction between whether a character was the #1 or #2 most efficient. This denotes who the main damage character, main tank character, and main support character. There is similarly a term called off-tank, off-support, and off-damage. These describe who should be the primary player for the team's role or the secondary option. In terms of support, the main support will be much more fixated on healing tanks and heroes in the main fight whereas off-support is focused characters in side fights or performing a different role. This makes a lot of sense for characters like Moira and Baptiste who were predominately in the main support role. Moira and Baptiste are commonly chosen as the main support because they are the heroes with some of the highest healing output. The tank choice also makes sense why Orisa was typically the main tank chosen and sigma was the off-tank. Orisa's abilities (or game functions) are centered around playing in a main collective fight and not being very mobile. Whereas Sigma, has a lot of mobility and has functions that allow him to play better in siden fights. The distinction between main damage and off-damage isn't very impactful in this season of Overwatch because main damage just has a slight increase in damage output on average. This is why heroes, like Mei and Echo, are typically not limited to one role and appear in both roles. Comparing these compositions to the hero pick rates of the most efficient esports players we see some similarities and also some differences. In terms of damage heroes, the pick rates by professional players lines up with the team compositions based on efficiency. Mei was picked the most by all three most efficient esports players and showed up the most in our efficiency DataFrame table. Genji was another hero that was picked very frequently by Agilities and Saucy and was one of the most common damage players in terms of efficiency per map. Our data does vary quite drastically in terms of Tanks. Reinhardt was easily the most chosen tanks by the three most efficient tank esports players. However, he only appeared 5 times in our DataFrame table. It is worth noting that Orisa was played a good amount by the player GiG and appeared in our DataFrame table the most. Support heroes matched up fairly well against the most efficient support esports players. Baptiste was heavily played by the players Boombox and irls anmd he occurred in our DataFrame the most of any other support player. Brigitte was played by Haksal a very large amount of time and appeared in our top three to four for support hero that appeared in the most team compositions. Overall, our statistics regarding efficiently matched up well the professional esports players opinions and hero pick rates."
   ]
  },
  {
   "cell_type": "markdown",
   "id": "identified-voluntary",
   "metadata": {},
   "source": [
    "<H3>\n",
    "    <Strong>\n",
    "        Final Team Composition Creation for Every Map\n",
    "    </Strong>\n",
    "</H3>"
   ]
  },
  {
   "cell_type": "markdown",
   "id": "outer-evidence",
   "metadata": {},
   "source": [
    "This section will be the culmination of our final project as we look to see the best composition of Overwatch heroes for every match. First, we need a variable that can be used to compare every hero on every map. We decided to make a new variable called Master Key to be used in comparisons to find the best compostion of heroes.\n",
    "* Master Key = 2(Efficiency / mean(Efficiency)) + (win_percent / mean(win_percent))"
   ]
  },
  {
   "cell_type": "markdown",
   "id": "sharing-mobile",
   "metadata": {},
   "source": [
    "### Master Key Variable Creation"
   ]
  },
  {
   "cell_type": "code",
   "execution_count": null,
   "id": "defensive-wayne",
   "metadata": {},
   "outputs": [],
   "source": [
    "#Creates 'Master Key' which will be the variable used in final team composition creation\n",
    "win_pct['Efficiency'] = efficiency_df['Efficiency']\n",
    "#Equation is 2*(Efficiency / mean(Efficiency)) + win_Percent / mean(win_Percent)\n",
    "win_pct['Master Key'] = (2*win_pct['Efficiency'] / (win_pct['Efficiency'].mean())) + (win_pct['Win_Pct'] / (win_pct['Win_Pct'].mean()))\n",
    "win_pct = win_pct[['Hero','Map','Class','Win_Pct','Efficiency','Master Key']]\n",
    "win_pct.sort_values(by=['Master Key'], ascending = False).reset_index().drop('index', axis = 1)"
   ]
  },
  {
   "cell_type": "markdown",
   "id": "subsequent-cooler",
   "metadata": {},
   "source": [
    "The equation for Master Key was formulated to give efficiency 2 times the weight of win percentage. This way efficiency made up two thirds of Master Key. We felt it was important to trust the efficiency statistic much more than the average win percentage when trying to determine the best hero composition. It is possible for a hero to not be as impactful but still get a win because they team they are playing is much worse. We feel it is less likely if a hero doesn't play well (low efficiency) that their team will still win. We specifically chose two times greater to give efficiency a mide majority over win percentage because we feel it is a much more accurate measuere. Also, after comparing the hero pick rates of professional players to our best team compositions in regards to efficiency, we felt that efficiency was a very strong statistic to use to find a final team composition. It is worth noting here that Genji on Rialto was the best fitting hero for a map. This makes sense because it is a very wide spread map with varios hiding spots and corners. Genji can play very well on a map like this because his abilities are very suited for the terrain and layout of the map. We see a few heroes on certain maps have a Master Key value of 0. This is because some heroes are not played certain maps because they aren't as favorable on that map. Bastion for example is not played on Paris or Junkertown because they are wide open maps with not a lot of coverage and Bastion relies heavily on map coverage and more dense map layouts."
   ]
  },
  {
   "cell_type": "code",
   "execution_count": null,
   "id": "editorial-aside",
   "metadata": {},
   "outputs": [],
   "source": [
    "#Creates an array for each class\n",
    "damage_df = win_pct.loc[win_pct['Class'] == 'Damage'].sort_values(by=['Master Key'], ascending=False)\n",
    "support_df = win_pct.loc[win_pct['Class'] == 'Support'].sort_values(by=['Master Key'], ascending=False)\n",
    "tank_df = win_pct.loc[win_pct['Class'] == 'Tank'].sort_values(by=['Master Key'], ascending=False)\n",
    "maps,damage_one,damage_two,support_one,support_two,tank_one,tank_two  = [],[],[],[],[],[],[]\n",
    "#Team composition is based on individual map therefore \n",
    "# looping through all the maps\n",
    "for map in map_list:\n",
    "    best_damage = damage_df.loc[damage_df['Map'] == map].head(2)\n",
    "    best_damage_arr = np.array(best_damage['Hero'])\n",
    "    #Adding best two from every class for a map to arrays to be added to dataframe later\n",
    "    damage_one.append(best_damage_arr[0])\n",
    "    damage_two.append(best_damage_arr[1])\n",
    "    best_support = support_df.loc[support_df['Map'] == map].head(2)\n",
    "    best_support_arr = np.array(best_support['Hero'])\n",
    "    support_one.append(best_support_arr[0])\n",
    "    support_two.append(best_support_arr[1])\n",
    "    best_tank = tank_df.loc[tank_df['Map'] == map].head(2)\n",
    "    best_tank_arr = np.array(best_tank['Hero'])\n",
    "    tank_one.append(best_tank_arr[0])\n",
    "    tank_two.append(best_tank_arr[1])\n",
    "    maps.append(map)\n",
    "#Creates DataFrame to visually see final team composition results\n",
    "final_team_composition = pd.DataFrame()\n",
    "final_team_composition['Map'],final_team_composition['Damage #1'] = maps, damage_one, \n",
    "final_team_composition['Damage #2'],final_team_composition['Tank #1']= damage_two, tank_one\n",
    "final_team_composition['Tank #2'], final_team_composition['Support #1'], final_team_composition['Support #2'] =  tank_two, support_one, support_two\n",
    "final_team_composition"
   ]
  },
  {
   "cell_type": "markdown",
   "id": "chemical-lafayette",
   "metadata": {},
   "source": [
    "This is the finalized hero composition for every map. It seems to be that Orisa and Sigma are predominately favorable on most maps. A map where neither hero is favorable is Watchpoint: Gibraltar, which makes sense because this map is very open with a lot of coverage. Tanks like Winston and D.Va which rely on their mobility to attack teams floruish on this map. In terms of support, heroes like Baptiste and Brigitte are the most common healers across maps. Mei and Echo or Genji are the most common damage heroes across the maps with some heroes like Torbjörn and Pharah being favorable on a few maps. I would like to point out that for the map Rialto all the favorable heroes make a lot of sense when thinking about the layout of the map. Rialto has a lot of close corners and hiding sports where heroes like Mei and Genji will perform very well. This is also a map where the objective (a truck or payload is moved a certain distance) is great for tanks like Orisa and Sigma. Both of these heroes have functions where their Shields can be moved to protect teammates which is very strong on maps where the objective is constantly moving. Baptise and Zenyatta on this map are also very favorable because they each have an ability that renders one of Genji's abilities useless and is a great counter attack against Genji. Pharah is also favorable on Ilios which can be explained by the fact that Pharah has an ability to knock players backward and Ilio is a map with a lot of close edges and places where an enemy can be knocked off an edge and die. We had planned to run this code with an inner for loop that iterated over the various classes to remove redundant code. However, when we added this for loop and if statements in the lines of code was actually longer than if we did it brute force."
   ]
  },
  {
   "cell_type": "markdown",
   "id": "invalid-cabin",
   "metadata": {},
   "source": [
    "---"
   ]
  },
  {
   "cell_type": "markdown",
   "id": "stopped-brand",
   "metadata": {},
   "source": [
    "<div align=\"center\">\n",
    "    <H1>\n",
    "        <Strong>\n",
    "            Conclusion and Further Analysis\n",
    "        </Strong>\n",
    "    </H1>\n",
    "</div>"
   ]
  },
  {
   "cell_type": "markdown",
   "id": "minus-blackjack",
   "metadata": {},
   "source": [
    "The objective of this project was to find an optimal team composition for every map based on the relevant statistics and overall average win percentage. We have completed this and it is now time to compare these team compositions to the pick rates of the three most efficient esports players at every hero class. We are making this comparison to see if the team compositions in the 2020 Overwatch League Season was back up by the statistics. Looking at Tanks, we see that the most common tank picked by far was Reinhardt. Our data did not suggest that Reinhardt was a major contributor on most maps and he only appeared in the top two tank efficiencies 6 times. This can somewhat be explained by the fact that the maps that he was chosen to be in the optimal team composition for are some of the most popular and common maps played in the 2020 Overwatch League Season. Maps like Lijiang Tower, Eichenwalde, amd Nepal are usually played in every game series. However, our data did not suggest that Wrecking Ball was an optimal hero to be included in hero compositions and he was the second most picked hero for the three most efficient players this season. This can somewhat be explained by the nature of the Wrecking Ball hero. Wrecking Ball's main objective is to disrupt and play in a very niche role. Therefore, his impact may not be directly correlated to his pure statistics. He also is a character that relies on Environmental Kills and other less important statistics that we felt wasnm't important to look at when evaluating all 32 heroes. The support hero pick rates largely coincide with our final optimal team compositions where heroes like Baptiste and Zenyatta were picked very often and they were two of the most common among all the map's team compositions. The one suprising point would be that Lucio was not in any of our optimal team compositions yet is one of the top three most picked healers for some professional players. However, like Wrecking Ball this can be explained by his unique abilits that makes his imapct not directly relate to his statistics. One of his main roles is to give a speed boost to teammates (offensive assists) as well as get environment kills by using his abilities. Neither offensive assists nor environmental kills were included in our analysis because they are not very imapctful for all 32 heroes only a few of them. It is also worth menttioning that we did not take hero pairings into account when performing our data analysis. Heroes like Phara and Mercy are almost always played together. You will rarely find a time whrere Phara is played and Mercy isn't. This is important to note but we still believe that our Master Key variable is a good metric to find the best team composition. "
   ]
  },
  {
   "cell_type": "markdown",
   "id": "transsexual-complex",
   "metadata": {},
   "source": [
    "The data that we looked at was only a small portion of the data available on the Overwatch League website. We only looked at 2020 Regular Season data and we only evaluated a few of the statistics that we felt was important. We also only looked at Overwatch League statistics on PC and not on any other console. In the future, it may be interesting to compare some of the more niche statistics to see if we can get a better sense of the data and it's heroes. In newer seasons of Overwatch League, there were hero bans as well as different hero changes which could contribute to use finding a completely different hero composition if we ran our analysis on a different Overwatch League Season. This analysis can also be used in the future to advise professional Overwatch teams that struggled during the previous season. If the current methodology isn't working for an esports team, we recommend utilizing our team compositions and data to try and improve their team."
   ]
  },
  {
   "cell_type": "markdown",
   "id": "moved-borough",
   "metadata": {},
   "source": [
    "<center><img src=\"pictures/rialto.jpeg\" alt=\"Rialto\" width=\"600\"></center>"
   ]
  },
  {
   "cell_type": "markdown",
   "id": "angry-extension",
   "metadata": {},
   "source": [
    "<div align=\"center\">\n",
    "      <Strong>\n",
    "          In Game Map: Rialto\n",
    "      </Strong>\n",
    "</div>"
   ]
  }
 ],
 "metadata": {
  "interpreter": {
   "hash": "4d06ec8e350098757cb7e646ee66a2b07217d7cd03ed0d772a1e5b1941f420b6"
  },
  "kernelspec": {
   "display_name": "Python 3",
   "language": "python",
   "name": "python3"
  },
  "language_info": {
   "codemirror_mode": {
    "name": "ipython",
    "version": 3
   },
   "file_extension": ".py",
   "mimetype": "text/x-python",
   "name": "python",
   "nbconvert_exporter": "python",
   "pygments_lexer": "ipython3",
   "version": "3.8.6"
  }
 },
 "nbformat": 4,
 "nbformat_minor": 5
}
